{
 "cells": [
  {
   "cell_type": "markdown",
   "id": "e1a3aa50",
   "metadata": {},
   "source": [
    "# Automatyczne pozyskiwanie danych\n",
    "\n",
    "## Tomasz Rodak\n",
    "\n",
    "# Lab 11\n",
    "\n",
    "---"
   ]
  },
  {
   "cell_type": "markdown",
   "id": "07fc1abf",
   "metadata": {},
   "source": [
    "## Biblioteka [duckduckgo-search](https://github.com/deedy5/duckduckgo_search)\n",
    "\n",
    "Biblioteka `duckduckgo-search` umożliwia programistyczne korzystanie z wyszukiwarki DuckDuckGo. Klasa `DDGS` udostępnia synchroniczne API do wyszukiwania.\n",
    "\n",
    "### Instalacja\n",
    "\n",
    "```bash\n",
    "pip install duckduckgo-search\n",
    "```\n",
    "\n",
    "### Klasa DDGS - synchroniczne wyszukiwanie\n",
    "\n",
    "Klasa `DDGS` pozwala na synchroniczne wyszukiwanie w następujących kategoriach:\n",
    "- Wyszukiwanie tekstu (`text`)\n",
    "- Wyszukiwanie obrazów (`images`)\n",
    "- Wyszukiwanie wideo (`videos`)\n",
    "- Wyszukiwanie wiadomości (`news`)\n",
    "\n",
    "### Przykład użycia synchronicznego API\n",
    "\n",
    "```python\n",
    "from duckduckgo_search import DDGS\n",
    "\n",
    "def search_example():\n",
    "    with DDGS() as ddgs:\n",
    "        # Synchroniczne wyszukiwanie tekstu\n",
    "        results = list(ddgs.text(\n",
    "            'Python programming', \n",
    "            region='pl-pl',\n",
    "            safesearch='moderate', \n",
    "            timelimit='y',  # wyniki z ostatniego roku\n",
    "            max_results=5\n",
    "        ))\n",
    "        return results\n",
    "```\n",
    "\n",
    "### Parametry wyszukiwania\n",
    "\n",
    "Metody synchroniczne akceptują następujące parametry:\n",
    "\n",
    "1. **Wspólne dla wszystkich typów**:\n",
    "   - `keywords` - słowa kluczowe do wyszukiwania\n",
    "   - `region` - kod regionu (np. 'pl-pl', 'us-en')\n",
    "   - `safesearch` - poziom filtrowania treści ('on', 'moderate', 'off')\n",
    "   - `timelimit` - zakres czasowy ('d' - dzień, 'w' - tydzień, 'm' - miesiąc, 'y' - rok)\n",
    "   - `max_results` - maksymalna liczba wyników (None dla wszystkich dostępnych)\n",
    "\n",
    "2. **Dodatkowe dla wyszukiwania obrazów**:\n",
    "   - `size` - rozmiar obrazu ('small', 'medium', 'large', 'wallpaper')\n",
    "   - `color` - kolor obrazu ('color', 'monochrome', 'red', 'orange', itd.)\n",
    "   - `type_image` - typ obrazu ('photo', 'clipart', 'gif', 'transparent', 'line')\n",
    "   - `layout` - układ obrazu ('square', 'tall', 'wide')\n"
   ]
  },
  {
   "cell_type": "markdown",
   "id": "9c0daed1",
   "metadata": {},
   "source": [
    "## Zadanie 11.1\n",
    "\n",
    "Przeanalizuj strukturę wyników zwracanych przez różne metody wyszukiwania klasy `DDGS`. Wykonaj następujące kroki:\n",
    "\n",
    "1. Przeprowadź wyszukiwanie tekstowe używając metody `text()` dla wybranego przez siebie zapytania.\n",
    "2. Przeprowadź wyszukiwanie obrazów używając metody `images()` dla tego samego zapytania.\n",
    "3. Przeprowadź wyszukiwanie wiadomości używając metody `news()`.\n",
    "\n",
    "Dla każdego typu wyszukiwania:\n",
    "- Wypisz strukturę przykładowego wyniku (klucze i wartości)\n",
    "- Porównaj struktury wyników z różnych typów wyszukiwania\n",
    "- Zidentyfikuj pola wspólne i unikalne dla każdego typu\n",
    "\n",
    "Sprawdź, jak zmienia się czas wykonania zapytania w zależności od parametru `max_results`.\n",
    "\n",
    "---"
   ]
  },
  {
   "cell_type": "markdown",
   "id": "9cf275bd",
   "metadata": {},
   "source": [
    "## Zadanie 11.2\n",
    "\n",
    "Wybierz interesujące Cię zagadnienie (np. \"architektura modernistyczna\", \"góry świata\", \"dzieła sztuki renesansu\" itp.), a następnie wykorzystaj bibliotekę `duckduckgo-search` do pobrania kilkuset adresów URL obrazów. Wyniki zapisz w pliku JSON. \n",
    "\n",
    "DuckDuckGo nie pozwala na pobieranie dużej liczby wyników w jednym zapytaniu, dlatego konieczne będzie zastosowanie różnych wariantów zapytań i parametrów wyszukiwania."
   ]
  }
 ],
 "metadata": {
  "language_info": {
   "name": "python"
  }
 },
 "nbformat": 4,
 "nbformat_minor": 5
}
