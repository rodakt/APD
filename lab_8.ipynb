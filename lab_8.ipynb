{
 "cells": [
  {
   "cell_type": "markdown",
   "metadata": {},
   "source": [
    "# Automatyczne pozyskiwanie danych\n",
    "\n",
    "## Tomasz Rodak\n",
    "\n",
    "# Lab 8\n",
    "\n",
    "---"
   ]
  },
  {
   "cell_type": "markdown",
   "metadata": {},
   "source": [
    "## Zadanie 8.1\n",
    "\n",
    "Napisz program, który wychodząc od ustalonego hasła Wikipedii będzie losowo podążał za kolejnymi hasłami, do których prowadzą linki w artykule. Ustaw limit liczby przeglądanych artykułów. Pomiędzy żądaniami dodaj opóźnienie 1 sekundy. \n",
    "\n",
    "---"
   ]
  },
  {
   "cell_type": "markdown",
   "metadata": {},
   "source": [
    "## Zadanie 8.2\n",
    "\n",
    "Napisz program, który wychodząc od ustalonego hasła Wikipedii będzie przechodził przez (teoretycznie) wszystkie hasła Wikipedii algorytmem BFS. Ustaw limit liczby przeglądanych artykułów i głębokości przeszukiwania. Pomiędzy żądaniami dodaj opóźnienie 1 sekundy.\n",
    "\n",
    "---"
   ]
  }
 ],
 "metadata": {
  "kernelspec": {
   "display_name": "base",
   "language": "python",
   "name": "python3"
  },
  "language_info": {
   "codemirror_mode": {
    "name": "ipython",
    "version": 3
   },
   "file_extension": ".py",
   "mimetype": "text/x-python",
   "name": "python",
   "nbconvert_exporter": "python",
   "pygments_lexer": "ipython3",
   "version": "3.12.7"
  }
 },
 "nbformat": 4,
 "nbformat_minor": 2
}
