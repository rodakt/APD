{
 "cells": [
  {
   "cell_type": "markdown",
   "metadata": {},
   "source": [
    "# Automatyczne pozyskiwanie danych\n",
    "\n",
    "## Tomasz Rodak\n",
    "\n",
    "Wykład 4\n",
    "\n",
    "---"
   ]
  },
  {
   "cell_type": "markdown",
   "metadata": {},
   "source": [
    "## Grafy\n",
    "\n",
    "<!-- Graf to matematyczny obiekt składający się z dwóch podstawowych elementów: zbioru wierzchołków (nazywanych także punktami) oraz zbioru krawędzi, czyli połączeń między tymi wierzchołkami. Definiujemy graf jako parę \\( G = (V, E) \\), gdzie \\( V \\) jest niepustym zbiorem wierzchołków, a \\( E \\) – zbiorem krawędzi, które łączą pary wierzchołków. -->\n",
    "\n",
    "Graf to matematyczny obiekt składający się z dwóch podstawowych elementów: zbioru wierzchołków (nazywanych także węzłami) oraz zbioru krawędzi, czyli połączeń między tymi wierzchołkami. Definiujemy graf jako parę $G = (V, E)$, gdzie $V$ jest niepustym zbiorem wierzchołków, a $E$ – zbiorem krawędzi, które łączą pary wierzchołków. \n",
    "\n",
    "### Graf nieskierowany\n",
    "\n",
    "W grafie nieskierowanym każda krawędź łączy dwa wirzchołki (mogą być te same) w sposób symetryczny, co oznacza, że nie ma określonego kierunku między wierzchołkami. Krawędź między wierzchołkami $u$ i $v$ reprezentowana jest jako nieuporządkowana para $\\{u, v\\}$. Oznacza to, że jeśli istnieje krawędź między $u$ a $v$, to można przejść zarówno z $u$ do $v$, jak i z $v$ do $u$. \n",
    "\n",
    "### Graf skierowany\n",
    "\n",
    "W grafie skierowanym każda krawędź posiada określony kierunek. Krawędź między wierzchołkami $u$ i $v$ reprezentowana jest jako uporządkowana para $(u, v)$, gdzie $u$ nazywany jest wierzchołkiem początkowym, a $v$ – końcowym. Oznacza to, że połączenie (czy też relacja) jest jednostronne – istnienie krawędzi od $u$ do $v$ nie implikuje automatycznie istnienia krawędzi od $v$ do $u$."
   ]
  },
  {
   "cell_type": "markdown",
   "metadata": {},
   "source": [
    "### Networkx\n",
    "\n",
    "NetworkX to biblioteka Pythona, do tworzenia i analizy grafów.  \n",
    "\n",
    "Przykład grafu nieskierowanego:"
   ]
  },
  {
   "cell_type": "code",
   "execution_count": 1,
   "metadata": {},
   "outputs": [],
   "source": [
    "import networkx as nx\n",
    "import matplotlib.pyplot as plt"
   ]
  },
  {
   "cell_type": "markdown",
   "metadata": {},
   "source": [
    "Przykład grafu nieskierowanego:"
   ]
  },
  {
   "cell_type": "code",
   "execution_count": 2,
   "metadata": {},
   "outputs": [
    {
     "data": {
      "text/plain": [
       "(NodeView((1, 2, 3, 4)), EdgeView([(1, 2), (1, 3), (1, 4), (2, 3)]))"
      ]
     },
     "execution_count": 2,
     "metadata": {},
     "output_type": "execute_result"
    }
   ],
   "source": [
    "graph = nx.Graph()\n",
    "graph.add_nodes_from([1, 2, 3])\n",
    "graph.add_edges_from([(1, 2), (2, 3), (3, 1)])\n",
    "graph.add_node(4)\n",
    "graph.add_edge(1, 4)\n",
    "graph.nodes, graph.edges"
   ]
  },
  {
   "cell_type": "markdown",
   "metadata": {},
   "source": [
    "Dane grafu w formacie gotowym do przekazania do pliku json:"
   ]
  },
  {
   "cell_type": "code",
   "execution_count": 3,
   "metadata": {},
   "outputs": [
    {
     "data": {
      "text/plain": [
       "{'directed': False,\n",
       " 'multigraph': False,\n",
       " 'graph': {},\n",
       " 'nodes': [{'id': 1}, {'id': 2}, {'id': 3}, {'id': 4}],\n",
       " 'links': [{'source': 1, 'target': 2},\n",
       "  {'source': 1, 'target': 3},\n",
       "  {'source': 1, 'target': 4},\n",
       "  {'source': 2, 'target': 3}]}"
      ]
     },
     "execution_count": 3,
     "metadata": {},
     "output_type": "execute_result"
    }
   ],
   "source": [
    "nx.node_link_data(graph)"
   ]
  },
  {
   "cell_type": "markdown",
   "metadata": {},
   "source": [
    "Obrazek:"
   ]
  },
  {
   "cell_type": "code",
   "execution_count": 4,
   "metadata": {},
   "outputs": [
    {
     "data": {
      "image/png": "[encoded data removed]",
      "text/plain": [
       "<Figure size 800x200 with 1 Axes>"
      ]
     },
     "metadata": {},
     "output_type": "display_data"
    }
   ],
   "source": [
    "nx.draw(graph, with_labels=True)\n",
    "plt.gcf().set_size_inches(8, 2)"
   ]
  },
  {
   "cell_type": "markdown",
   "metadata": {},
   "source": [
    "Sąsiedzi wierzchołka:"
   ]
  },
  {
   "cell_type": "code",
   "execution_count": 5,
   "metadata": {},
   "outputs": [
    {
     "data": {
      "text/plain": [
       "[2, 3, 4]"
      ]
     },
     "execution_count": 5,
     "metadata": {},
     "output_type": "execute_result"
    }
   ],
   "source": [
    "list(graph.neighbors(1))"
   ]
  },
  {
   "cell_type": "markdown",
   "metadata": {},
   "source": [
    "Przyklad grafu skierowanego:"
   ]
  },
  {
   "cell_type": "code",
   "execution_count": 6,
   "metadata": {},
   "outputs": [
    {
     "data": {
      "text/plain": [
       "(NodeView((1, 2, 3, 4)), OutEdgeView([(1, 2), (1, 4), (2, 3), (3, 1)]))"
      ]
     },
     "execution_count": 6,
     "metadata": {},
     "output_type": "execute_result"
    }
   ],
   "source": [
    "graph = nx.DiGraph()\n",
    "graph.add_nodes_from([1, 2, 3])\n",
    "graph.add_edges_from([(1, 2), (2, 3), (3, 1)])\n",
    "graph.add_node(4)\n",
    "graph.add_edge(1, 4)\n",
    "graph.nodes, graph.edges"
   ]
  },
  {
   "cell_type": "markdown",
   "metadata": {},
   "source": [
    "Dane grafu w formacie gotowym do przekazania do pliku json:"
   ]
  },
  {
   "cell_type": "code",
   "execution_count": 7,
   "metadata": {},
   "outputs": [
    {
     "data": {
      "text/plain": [
       "{'directed': True,\n",
       " 'multigraph': False,\n",
       " 'graph': {},\n",
       " 'nodes': [{'id': 1}, {'id': 2}, {'id': 3}, {'id': 4}],\n",
       " 'links': [{'source': 1, 'target': 2},\n",
       "  {'source': 1, 'target': 4},\n",
       "  {'source': 2, 'target': 3},\n",
       "  {'source': 3, 'target': 1}]}"
      ]
     },
     "execution_count": 7,
     "metadata": {},
     "output_type": "execute_result"
    }
   ],
   "source": [
    "nx.node_link_data(graph)"
   ]
  },
  {
   "cell_type": "markdown",
   "metadata": {},
   "source": [
    "Obrazek:"
   ]
  },
  {
   "cell_type": "code",
   "execution_count": 8,
   "metadata": {},
   "outputs": [
    {
     "data": {
      "image/png": "[encoded data removed]",
      "text/plain": [
       "<Figure size 800x200 with 1 Axes>"
      ]
     },
     "metadata": {},
     "output_type": "display_data"
    }
   ],
   "source": [
    "nx.draw(graph, with_labels=True)\n",
    "plt.gcf().set_size_inches(8, 2)"
   ]
  },
  {
   "cell_type": "markdown",
   "metadata": {},
   "source": [
    "Sąsiedzi wierzchołka:"
   ]
  },
  {
   "cell_type": "code",
   "execution_count": 9,
   "metadata": {},
   "outputs": [
    {
     "data": {
      "text/plain": [
       "[2, 4]"
      ]
     },
     "execution_count": 9,
     "metadata": {},
     "output_type": "execute_result"
    }
   ],
   "source": [
    "list(graph.neighbors(1))"
   ]
  },
  {
   "cell_type": "markdown",
   "metadata": {},
   "source": [
    "Losowy graf skierowany:"
   ]
  },
  {
   "cell_type": "code",
   "execution_count": 10,
   "metadata": {},
   "outputs": [
    {
     "data": {
      "image/png": "[encoded data removed]",
      "text/plain": [
       "<Figure size 800x200 with 1 Axes>"
      ]
     },
     "metadata": {},
     "output_type": "display_data"
    }
   ],
   "source": [
    "graph = nx.erdos_renyi_graph(10, 0.2, directed=True, seed=42)\n",
    "nx.draw(graph, with_labels=True)\n",
    "plt.gcf().set_size_inches(8, 2)"
   ]
  },
  {
   "cell_type": "markdown",
   "metadata": {},
   "source": [
    "Sąsiedzi wierzchołka:"
   ]
  },
  {
   "cell_type": "code",
   "execution_count": 11,
   "metadata": {},
   "outputs": [
    {
     "data": {
      "text/plain": [
       "[1, 6, 9]"
      ]
     },
     "execution_count": 11,
     "metadata": {},
     "output_type": "execute_result"
    }
   ],
   "source": [
    "list(graph.neighbors(2))"
   ]
  },
  {
   "cell_type": "markdown",
   "metadata": {},
   "source": [
    "### Przykład\n",
    "\n",
    "[Tutaj](https://github.com/rodakt/APD/tree/main/graph_server) znajduje się przykład prostego serwera, w którym węzły powyższego grafu są reprezentowane jako strony HTML. Odnośniki między nimi odpowiadają krawędziom grafu. "
   ]
  },
  {
   "cell_type": "markdown",
   "metadata": {},
   "source": [
    "### Przeszukiwanie grafu\n",
    "\n",
    "#### *Breadth-First Search* (BFS)\n",
    "\n",
    "BFS odwiedza wszystkie wierzchołki na danym poziomie odległości od wierzchołka startowego, zanim przejdzie do wierzchołków położonych dalej. Działa na grafach obu typów.\n",
    "\n",
    "Wykorzystuje:\n",
    "* kolejkę FIFO (First-In-First-Out) do zapamiętywania, które wierzchołki należy odwiedzić w następnej kolejności,\n",
    "* zbiór, do rejestracji historii odwiedzonych wierzchołków.\n",
    "\n",
    "**Algorytm:**\n",
    "\n",
    "```\n",
    "funkcja BFS(graf, wierzchołek_startowy):\n",
    "    // Inicjalizacja\n",
    "    kolejka = nowa Kolejka()\n",
    "    odwiedzone = nowy Zbiór()\n",
    "    \n",
    "    // Dodaj wierzchołek startowy do kolejki i oznacz jako odwiedzony\n",
    "    kolejka.dodaj(wierzchołek_startowy)\n",
    "    odwiedzone.dodaj(wierzchołek_startowy)\n",
    "    \n",
    "    // Główna pętla BFS\n",
    "    dopóki kolejka nie jest pusta:\n",
    "        aktualny = kolejka.pobierz()  // Pobierz pierwszy element z kolejki\n",
    "        \n",
    "        // Przetwórz aktualny wierzchołek (np. wyświetl)\n",
    "        przetwórz(aktualny)\n",
    "        \n",
    "        // Sprawdź wszystkich sąsiadów aktualnego wierzchołka\n",
    "        dla każdego sąsiada w graf.sąsiedzi(aktualny):\n",
    "            jeżeli sąsiad nie należy do odwiedzone:\n",
    "                kolejka.dodaj(sąsiad)\n",
    "                odwiedzone.dodaj(sąsiad)\n",
    "```"
   ]
  },
  {
   "cell_type": "markdown",
   "metadata": {},
   "source": [
    "#### Kolejka FIFO\n",
    "\n",
    "Kolejka FIFO (First-In-First-Out) to struktura danych, która działa na zasadzie \"pierwszy wszedł, pierwszy wyszedł\". Oznacza to, że elementy są dodawane na końcu kolejki i usuwane z początku. Stosuje się do tego operacje:\n",
    "* `enqueue` – dodaje element na końcu kolejki,\n",
    "* `dequeue` – usuwa element z początku kolejki i zwraca go.\n",
    "\n",
    "W Pythonie implementację kolejki FIFO stanowi lista z operacjami:\n",
    "* `append` – dodaje element na końcu listy,\n",
    "* `pop(0)` – usuwa element z początku listy i zwraca go.\n",
    "\n",
    "Listy jako kolejki są nieefektywne, ponieważ operacja `pop(0)` wymaga przesunięcia wszystkich pozostałych elementów w lewo i ma złożoność czasową $O(n)$, gdzie $n$ to liczba elementów w liście. Bardziej efektywne jest użycie modułu `collections.deque` z konstruktorem `deque()` i operacjami:\n",
    "* `append` – dodaje element na końcu kolejki,\n",
    "* `popleft` – usuwa element z początku kolejki i zwraca go."
   ]
  },
  {
   "cell_type": "markdown",
   "metadata": {},
   "source": [
    "### Ćwiczenie\n",
    "\n",
    "Napisz funkcję `bfs(graph, start)`, która przyjmuje graf i wierzchołek startowy, a następnie zwraca listę odwiedzonych wierzchołków w kolejności ich odwiedzenia. Użyj algorytmu BFS. "
   ]
  }
 ],
 "metadata": {
  "kernelspec": {
   "display_name": "py312",
   "language": "python",
   "name": "python3"
  },
  "language_info": {
   "codemirror_mode": {
    "name": "ipython",
    "version": 3
   },
   "file_extension": ".py",
   "mimetype": "text/x-python",
   "name": "python",
   "nbconvert_exporter": "python",
   "pygments_lexer": "ipython3",
   "version": "3.12.4"
  }
 },
 "nbformat": 4,
 "nbformat_minor": 2
}
