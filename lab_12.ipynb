{
 "cells": [
  {
   "cell_type": "markdown",
   "id": "e1a3aa50",
   "metadata": {},
   "source": [
    "# Automatyczne pozyskiwanie danych\n",
    "\n",
    "## Tomasz Rodak\n",
    "\n",
    "# Lab 12\n",
    "\n",
    "---\n",
    "\n",
    "Przy implementacji podanych niżej zadań sugeruję następujące podejście:\n",
    "\n",
    "1. **Nazewnictwo plików**:\n",
    "   - Zapisuj pliki obrazków z nazwą utworzoną jako md5sum adresu URL\n",
    "   \n",
    "2. **Grupowanie URL-i**:\n",
    "   - Przed rozpoczęciem pobierania, pogrupuj adresy URL według domeny\n",
    "   - Zapewnij, że nie będą wykonywane jednoczesne zapytania do tej samej domeny\n",
    "   - W przypadku implementacji asynchronicznej, zaplanuj zadania tak, aby zapytania do tej samej domeny były wykonywane sekwencyjnie\n",
    "\n",
    "3. **Śledz zapisane pliki**:\n",
    "   - Utrzymuj rejestr (np. zbiór) już pobranych URL-i\n",
    "   - Przed rozpoczęciem pobierania sprawdź, czy plik z danego URL-a już istnieje; jeśli tak, pomiń go"
   ]
  },
  {
   "cell_type": "markdown",
   "id": "f809451f",
   "metadata": {},
   "source": [
    "## Zadanie 12.1: Synchroniczne pobieranie obrazów\n",
    "\n",
    "Zaimplementuj synchroniczną wersję programu, który pobiera obrazy z adresów URL zgromadzonych w bazie utworzonej w zadaniu lab 11.2. Ta implementacja posłuży jako punkt odniesienia do porównania wydajności.\n",
    "\n",
    "## Zadanie 12.2: Asynchroniczne pobieranie z limitem czasu\n",
    "Zaimplementuj asynchroniczną wersję programu do pobierania obrazów wykorzystującą `asyncio.wait_for()`.\n",
    "\n",
    "## Zadanie 12.3: Asynchroniczne pobieranie z przetwarzaniem w miarę ukończenia\n",
    "Zaimplementuj asynchroniczną wersję programu do pobierania obrazów wykorzystującą `asyncio.as_completed()`.\n",
    "\n",
    "## Zadanie 12.4: Asynchroniczne pobieranie z równoległym wykonaniem\n",
    "Zaimplementuj asynchroniczną wersję programu do pobierania obrazów wykorzystującą `asyncio.gather()`.\n",
    "\n",
    "## Wspólne wymagania dla wszystkich zadań:\n",
    "- Wczytaj adresy URL obrazów z bazy danych\n",
    "- Pobierz każdy obraz i zapisz go lokalnie\n",
    "- Zmierz czas wykonania całego procesu\n",
    "- Dodaj obsługę błędów (błędny URL, błąd HTTP, timeout, niepoprawny format odpowiedzi)\n",
    "- Implementuj mechanizm opóźnienia (throttling) dla kolejnych żądań do tej samej domeny (np. minimalny odstęp 1 sekundy między żądaniami do tego samego serwera)"
   ]
  }
 ],
 "metadata": {
  "language_info": {
   "name": "python"
  }
 },
 "nbformat": 4,
 "nbformat_minor": 5
}
