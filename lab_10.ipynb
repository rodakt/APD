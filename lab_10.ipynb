{
 "cells": [
  {
   "cell_type": "markdown",
   "metadata": {},
   "source": [
    "# Automatyczne pozyskiwanie danych\n",
    "\n",
    "## Tomasz Rodak\n",
    "\n",
    "# Lab 10\n",
    "\n",
    "---"
   ]
  },
  {
   "cell_type": "markdown",
   "metadata": {},
   "source": [
    "## Zadanie 10.1\n",
    "\n",
    "Napisz program, który wypisze rozmiar w kB stron startowych z 10 różnych serwisów. Obsłuż błędy HTTP i timeouty. \n",
    "\n",
    "Program napisz w trzech wersjach:\n",
    "1. Wersja sekwencyjna wykorzystująca `requests`\n",
    "2. Wersja współbieżna wykorzystująca `asyncio.create_task()` i `aiohttp` lub `httpx`\n",
    "3. Wersja współbieżna wykorzystująca `asyncio.gather()` i `aiohttp` lub `httpx`\n",
    "\n",
    "Porównaj czasy wykonania wszystkich trzech podejść.\n",
    "\n",
    "---"
   ]
  },
  {
   "cell_type": "markdown",
   "metadata": {},
   "source": [
    "## Zadanie 10.2\n",
    "\n",
    "Napisz program, który będzie rozwiązywał nazwy hostów (*domain name resolution*) dla podanego zakresu nazw. Program ten ma działać w dwóch wariantach:\n",
    "\n",
    "1. **Wersja synchroniczna**: wykorzystująca standardową funkcję `socket.getaddrinfo()` do rozwiązywania nazw hostów jeden po drugim\n",
    "2. **Wersja asynchroniczna**: wykorzystująca `loop.getaddrinfo()` z biblioteki `asyncio` do równoległego rozwiązywania wielu nazw hostów. Zmienna `loop` to instancja pętli zdarzeń `asyncio`, która jest odpowiedzialna za zarządzanie asynchronicznymi operacjami.\n",
    "\n",
    "Funkcja `getaddrinfo()` służy do tłumaczenia nazw domen (np. \"www.example.com\") na konkretne adresy IP (np. \"93.184.216.34\"). Jest to podstawowy mechanizm rozwiązywania nazw hostów w sieciach komputerowych, który wykorzystuje system DNS (Domain Name System).\n",
    "\n",
    "W standardowym module `socket` funkcja `getaddrinfo()` działa synchronicznie - oznacza to, że każde zapytanie DNS blokuje wykonanie programu do momentu otrzymania odpowiedzi od serwera DNS.\n",
    "\n",
    "W module `asyncio`, metoda `loop.getaddrinfo()` działa asynchronicznie - pozwala to na wysłanie wielu zapytań DNS jednocześnie, a następnie na kontynuowanie wykonywania programu podczas oczekiwania na odpowiedzi.\n",
    "\n",
    "1. Program powinien przyjmować listę nazw hostów do rozwiązania (np. z pliku, linii poleceń lub jako zdefiniowaną listę w kodzie)\n",
    "2. Dla każdej implementacji (synchronicznej i asynchronicznej):\n",
    "   - Zapisz czas rozpoczęcia i zakończenia całego procesu\n",
    "   - Dla każdej nazwy hosta zapisz rozwiązane adresy IP\n",
    "   - Obsłuż potencjalne błędy (np. nieprawidłowe nazwy hostów)\n",
    "3. Na koniec wyświetl porównanie czasów wykonania obu implementacji\n",
    "\n",
    "Przykładowa lista nazw hostów do przetestowania\n",
    "\n",
    "```\n",
    "www.google.com\n",
    "www.facebook.com\n",
    "www.amazon.com\n",
    "www.microsoft.com\n",
    "www.apple.com\n",
    "www.youtube.com\n",
    "www.twitter.com\n",
    "www.instagram.com\n",
    "www.linkedin.com\n",
    "www.reddit.com\n",
    "```\n",
    "\n",
    "---"
   ]
  }
 ],
 "metadata": {
  "kernelspec": {
   "display_name": "base",
   "language": "python",
   "name": "python3"
  },
  "language_info": {
   "codemirror_mode": {
    "name": "ipython",
    "version": 3
   },
   "file_extension": ".py",
   "mimetype": "text/x-python",
   "name": "python",
   "nbconvert_exporter": "python",
   "pygments_lexer": "ipython3",
   "version": "3.12.7"
  }
 },
 "nbformat": 4,
 "nbformat_minor": 2
}
