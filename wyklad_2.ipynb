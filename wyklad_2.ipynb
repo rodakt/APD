{
 "cells": [
  {
   "cell_type": "markdown",
   "metadata": {},
   "source": [
    "# Automatyczne pozyskiwanie danych\n",
    "\n",
    "## Tomasz Rodak\n",
    "\n",
    "Wykład 2\n",
    "\n",
    "---"
   ]
  },
  {
   "cell_type": "markdown",
   "metadata": {},
   "source": [
    "## HTML\n",
    "\n",
    "HTML (HyperText Markup Language) to język znaczników definiujący strukturę strony internetowej. Określa, jakie elementy znajdują się na stronie, takie jak nagłówki, akapity, obrazy czy linki.  \n",
    "\n",
    "### Struktura HTML\n",
    "Dokument HTML ma **strukturę drzewa**, gdzie każdy element jest **węzłem**, a znaczniki mogą zawierać inne znaczniki jako **dzieci**. Szkielet dokumentu HTML w postaci drzewa przedstawia się następująco:\n",
    "\n",
    "```\n",
    "<html>\n",
    "│\n",
    "├── <head>\n",
    "│   ├── <meta charset=\"UTF-8\">\n",
    "│   └── <title> Tytuł strony </title>\n",
    "│\n",
    "└── <body>\n",
    "    ├── <h1> Nagłówek </h1>\n",
    "    ├── <p> Akapit </p>\n",
    "    └── <a href=\"https://example.com\"> Link </a>\n",
    "\n",
    "```"
   ]
  },
  {
   "cell_type": "markdown",
   "metadata": {},
   "source": [
    "### Składnia HTML\n",
    "\n",
    "Składniowo znaczniki HTML umieszczane są w nawiasach `< >`. Zapisz drzewa HTML z poprzedniego punktu w postaci kodu wyglądałby tak:\n",
    "\n",
    "```html\n",
    "<!DOCTYPE html>\n",
    "<html>\n",
    "<head>\n",
    "    <meta charset=\"UTF-8\">\n",
    "    <title>Tytuł strony</title>\n",
    "</head>\n",
    "<body>\n",
    "    <h1>Nagłówek</h1>\n",
    "    <p>To jest przykładowy akapit.</p>\n",
    "    <a href=\"https://example.com\">Kliknij tutaj</a>\n",
    "</body>\n",
    "</html>\n",
    "```\n",
    "\n",
    "- **`<!DOCTYPE html>`** – określa wersję HTML (HTML5).  \n",
    "- **`<html>`** – główny kontener strony, korzeń drzewa.  \n",
    "- **`<head>`** – sekcja z meta-informacjami (np. kodowanie, tytuł).  \n",
    "- **`<body>`** – zawiera widoczną treść strony.  \n",
    "- **`<h1>` – `<h6>`** – nagłówki.  \n",
    "- **`<p>`** – akapit.  \n",
    "- **`<a href=\"URL\">`** – link.  "
   ]
  },
  {
   "cell_type": "markdown",
   "metadata": {},
   "source": [
    "## Przykłady znaczników\n",
    "\n",
    "* `<p>` - paragraf;\n",
    "* `<br>` - przejście do nowego wiersza;\n",
    "* `<table>` - tabela; `<tr>` - wiersz tabeli; `<td>` - komórka tabeli;\n",
    "* `<img>` - obrazy;\n",
    "* `<h1>` aż do `<h6>` - nagłówki;\n",
    "* `<a>` - hiperłącze;\n",
    "* `<ul>` - lista nieuporządkowana; `<ol>` - lista uporządkowana; `<li>` - elementy listy;\n",
    "* `<div>` - grupa elementów (tylko CSS);\n",
    "* `<span>` - grupowanie tekstu wewnątrz elementów (tylko CSS)."
   ]
  },
  {
   "cell_type": "markdown",
   "metadata": {},
   "source": [
    "## CSS\n",
    "\n",
    "CSS (*Cascading Style Sheets*) to język służący do opisywania wyglądu i formatowania dokumentów napisanych w HTML lub XML. Umożliwia oddzielenie treści strony (HTML) od warstwy prezentacji, czyli tego, jak elementy na stronie są wyświetlane.\n",
    "\n",
    "### Główne cechy CSS:\n",
    "- **Kaskadowość:** Style mogą być dziedziczone, a reguły określające wygląd mogą nakładać się na siebie. Dzięki temu przeglądarka wybiera najbardziej specyficzne reguły.\n",
    "- **Modularność:** Style można definiować w osobnych plikach, co pozwala na ponowne wykorzystanie i łatwą konserwację kodu.\n",
    "- **Responsywność:** CSS umożliwia tworzenie responsywnych układów, które dostosowują się do różnych rozmiarów ekranów.\n",
    "\n",
    "### Składnia CSS\n",
    "Podstawowa reguła CSS składa się z selektora oraz bloku deklaracji:\n",
    "\n",
    "```css\n",
    "selektor {\n",
    "  właściwość: wartość;\n",
    "  właściwość2: wartość2;\n",
    "  /* kolejne właściwości */\n",
    "}\n",
    "```\n",
    "\n",
    "- **Selektor:** Określa, do jakich elementów HTML mają być zastosowane style. Przykłady selektorów to `h1`, `.klasa`, `#id`.\n",
    "- **Blok deklaracji:** Znajduje się w nawiasach klamrowych `{}`. Zawiera jedną lub więcej deklaracji.\n",
    "- **Deklaracja:** Każda deklaracja składa się z właściwości i przypisanej do niej wartości, oddzielonych dwukropkiem, a deklaracje kończy średnik.\n",
    "\n",
    "### Przykład:\n",
    "```css\n",
    "/* Stylowanie nagłówka i paragrafu */\n",
    "h1 {\n",
    "  color: blue;\n",
    "  font-size: 24px;\n",
    "}\n",
    "\n",
    "p {\n",
    "  color: gray;\n",
    "  line-height: 1.5;\n",
    "}\n",
    "```\n",
    "\n",
    "W powyższym przykładzie:\n",
    "- Reguła dla selektora `h1` ustawia kolor tekstu na niebieski i rozmiar czcionki na 24 piksele.\n",
    "- Reguła dla selektora `p` ustawia kolor tekstu na szary oraz określa wysokość linii."
   ]
  },
  {
   "cell_type": "markdown",
   "metadata": {},
   "source": [
    "### Przykład\n",
    "\n",
    "Poprzednia struktura HTML z dodanymi stylami CSS:\n",
    "\n",
    "```html\n",
    "<!DOCTYPE html>\n",
    "<html>\n",
    "<head>\n",
    "    <meta charset=\"UTF-8\">\n",
    "    <title>Tytuł strony</title>\n",
    "    <style>\n",
    "        body {\n",
    "            font-family: Arial, sans-serif;\n",
    "            background-color: #f4f4f4;\n",
    "            color: #333;\n",
    "            text-align: center;\n",
    "            padding: 20px;\n",
    "        }\n",
    "        h1 {\n",
    "            color: #007BFF;\n",
    "        }\n",
    "        p {\n",
    "            font-size: 18px;\n",
    "        }\n",
    "        a {\n",
    "            display: inline-block;\n",
    "            margin-top: 10px;\n",
    "            padding: 10px 20px;\n",
    "            background-color: #007BFF;\n",
    "            color: white;\n",
    "            text-decoration: none;\n",
    "            border-radius: 5px;\n",
    "            transition: background-color 0.3s;\n",
    "        }\n",
    "        a:hover {\n",
    "            background-color: #0056b3;\n",
    "        }\n",
    "    </style>\n",
    "</head>\n",
    "<body>\n",
    "    <h1>Nagłówek</h1>\n",
    "    <p>To jest przykładowy akapit.</p>\n",
    "    <a href=\"https://example.com\">Kliknij tutaj</a>\n",
    "</body>\n",
    "</html>\n",
    "```"
   ]
  },
  {
   "cell_type": "markdown",
   "metadata": {},
   "source": [
    "###  Klasy CSS\n",
    "\n",
    "Klasa CSS to sposób na grupowanie elementów, którym chcemy przypisać te same reguły stylów. W HTML dodaje się ją poprzez atrybut `class` w tagu, a następnie definiuje style dla tej klasy w pliku CSS przy użyciu kropki (`.`).\n",
    "\n",
    "**Przykład klasy CSS:**\n",
    "\n",
    "  ```css\n",
    "  .przykladowa-klasa {\n",
    "    background-color: lightblue;\n",
    "    font-size: 16px;\n",
    "    padding: 10px;\n",
    "  }\n",
    "  ```\n",
    "\n",
    "**Przykład użycia w HTML:**\n",
    "\n",
    "  ```html\n",
    "  <div class=\"przykladowa-klasa\">\n",
    "    To jest div z przypisaną klasą.\n",
    "  </div>\n",
    "  \n",
    "  <p class=\"przykladowa-klasa\">\n",
    "    Ten paragraf także korzysta z tej samej klasy.\n",
    "  </p>\n",
    "  ```"
   ]
  },
  {
   "cell_type": "markdown",
   "metadata": {},
   "source": [
    "### Dziedziczenie w CSS\n",
    "\n",
    "Dziedziczenie to mechanizm, dzięki któremu niektóre właściwości stylów przypisane do elementu nadrzędnego są przekazywane do jego elementów potomnych (automatycznie lub w wyniku wymuszenia). Dzięki temu nie musimy powtarzać definicji tych właściwości dla każdego elementu z osobna.\n",
    "\n",
    "#### Struktura DOM\n",
    "\n",
    "Dokument HTML tworzy drzewo, w którym każdy element (węzeł) jest osadzony wewnątrz innego elementu. Jeśli, dajmy na to, `<p>` znajduje się wewnątrz innego tagu (np. `<div>`, `<article>` lub `<section>`), to właśnie ten element otaczający jest jego rodzicem.\n",
    "\n",
    "**Przykład:**\n",
    "\n",
    "```html\n",
    "<div style=\"color: blue;\">\n",
    "  <p>Tekst w paragrafie dziedziczy kolor niebieski z rodzica.</p>\n",
    "</div>\n",
    "```\n",
    "\n",
    "W tym przykładzie `<div>` jest elementem nadrzędnym dla `<p>`. Dzięki dziedziczeniu właściwości CSS, jeśli `<p>` nie ma określonego koloru, przejmie kolor ustawiony w `<div>` (o ile właściwość `color` jest dziedziczona, a jest).\n",
    "\n",
    "Niektóre właściwości, szczególnie te związane z tekstem, są dziedziczone automatycznie. Przykłady to:\n",
    "\n",
    "* `color` – kolor tekstu.\n",
    "* `font-family` – rodzaj czcionki.\n",
    "* `font-size` – rozmiar czcionki.\n",
    "\n",
    "Wiele właściwości związanych z układem i wyglądem pudełkowym, jak `margin`, `padding`, `border` czy `background`, nie są dziedziczone automatycznie. Oznacza to, że ich ustawienia muszą być definiowane indywidualnie dla każdego elementu, jeżeli chcemy je stosować.\n",
    "\n",
    "Możemy wymusić dziedziczenie właściwości, nawet jeśli nie jest ono domyślne, ustawiając wartość `inherit`.\n",
    "\n",
    "**Przykład:**\n",
    "\n",
    "```css\n",
    "p {\n",
    "  background-color: inherit; /* Pochłania wartość background-color z elementu nadrzędnego */\n",
    "}\n",
    "```"
   ]
  },
  {
   "cell_type": "markdown",
   "metadata": {},
   "source": [
    "### Selektory CSS istotne w web scrapingu\n",
    "\n",
    "#### 1. Selektor elementu\n",
    "Wybiera wszystkie wystąpienia danego elementu (znacznika) na stronie. Przykład selektora elementu `div`:\n",
    "```css\n",
    "div {\n",
    "  /* wybiera wszystkie elementy <div> */\n",
    "}\n",
    "```\n",
    "\n",
    "#### 2. Selektor klasy\n",
    "Wybiera elementy, które posiadają określoną klasę. Przykład selektora klasy `.product`:\n",
    "```css\n",
    ".product {\n",
    "  /* wybiera wszystkie elementy z klasą \"product\" */\n",
    "}\n",
    "```\n",
    "\n",
    "\n",
    "\n",
    "#### 3. Selektor atrybutu\n",
    "\n",
    "Pozwala wybierać elementy na podstawie obecności atrybutu lub jego konkretnej wartości. Przykład selektora atrybutu `a[href]`:\n",
    "```css\n",
    "a[href] {\n",
    "  /* wybiera wszystkie linki, które mają atrybut href */\n",
    "}\n",
    "```\n",
    "\n",
    "#### 4. Selektor potomków\n",
    "\n",
    "Wybiera wszystkie elementy będące potomkami zdefiniowanego elementu (niekoniecznie bezpośrednimi). Przykład selektora potomków `div p`:\n",
    "```css\n",
    "div p {\n",
    "  /* wybiera wszystkie <p> wewnątrz dowolnego <div> */\n",
    "}\n",
    "```\n",
    "\n",
    "#### 5. Selektor bezpośrednich potomków\n",
    "\n",
    "Wybiera tylko elementy, które są bezpośrednimi dziećmi określonego elementu. Przykład selektora bezpośrednich potomków `ul > li`:\n",
    "```css\n",
    "ul > li {\n",
    "  /* wybiera tylko bezpośrednie elementy <li> będące dziećmi <ul> */\n",
    "}\n",
    "```\n",
    "\n",
    "#### 6. Selektory rodzeństwa\n",
    "\n",
    "Umożliwiają wybieranie elementów, które są sąsiadami danego elementu.\n",
    "\n",
    "- **Selektor sąsiedniego rodzeństwa (`+`):** Wybiera pierwszy element występujący bezpośrednio po zadanym elemencie. Przykład selektora sąsiedniego rodzeństwa `h2 + p`:\n",
    "```css\n",
    "h2 + p {\n",
    "  /* wybiera pierwszy <p> występujący bezpośrednio po <h2> */\n",
    "}\n",
    "```\n",
    "\n",
    "- **Selektor ogólnego rodzeństwa (`~`):** Wybiera wszystkie elementy, które są rodzeństwem i występują po zadanym elemencie. Przykład selektora ogólnego rodzeństwa `h2 ~ p`:\n",
    "```css\n",
    "h2 ~ p {\n",
    "  /* wybiera wszystkie <p> występujące po <h2> */\n",
    "}\n",
    "```\n",
    "\n",
    "#### 7. Pseudo-klasy\n",
    "\n",
    "Umożliwiają wybór elementów na podstawie ich stanu lub pozycji w hierarchii DOM.\n",
    "\n",
    "- **`:first-child`:** Wybiera pierwszy element wśród rodzeństwa. Przykład selektora `ul li:first-child`:\n",
    "```css\n",
    "ul li:first-child {\n",
    "  /* wybiera pierwszy element listy */\n",
    "}\n",
    "```\n",
    "\n",
    "- **`:last-child`:** Wybiera ostatni element.\n",
    "\n",
    "- **`:nth-child(n)`:** Wybiera n-ty element. Przykład selektora `ul li:nth-child(2)`:\n",
    "```css\n",
    "ul li:nth-child(2) {\n",
    "  /* wybiera drugi element listy */\n",
    "}\n",
    "```"
   ]
  },
  {
   "cell_type": "markdown",
   "metadata": {},
   "source": [
    "## [BeautifulSoup](https://www.crummy.com/software/BeautifulSoup/bs4/doc/)\n",
    "\n",
    "Biblioteka do pobierania danych z dokumentów HTML i XML.\n",
    "\n",
    "Typowy import:"
   ]
  },
  {
   "cell_type": "code",
   "execution_count": 1,
   "metadata": {},
   "outputs": [],
   "source": [
    "from bs4 import BeautifulSoup"
   ]
  },
  {
   "cell_type": "markdown",
   "metadata": {},
   "source": [
    "### Tworzenie zupy\n",
    "\n",
    "\"Zupa\" (*soup*) to obiekt reprezentujący sparsowany dokument HTML. Możemy go utworzyć, przekazując do klasy `BeautifulSoup` dokument HTML w postaci ciągu znaków, łańcucha bajtów lub strumienia dostępu do pliku.\n",
    "\n",
    "Z tekstu:"
   ]
  },
  {
   "cell_type": "code",
   "execution_count": 2,
   "metadata": {},
   "outputs": [
    {
     "name": "stdout",
     "output_type": "stream",
     "text": [
      "200 :-)\n"
     ]
    }
   ],
   "source": [
    "import requests\n",
    "\n",
    "## Wyniki Strade Bianche w 2025 roku:\n",
    "url = 'https://www.procyclingstats.com/race/strade-bianche/2025/result'\n",
    "r = requests.get(url)\n",
    "\n",
    "if r.status_code == 200:\n",
    "    with open('strade.html', 'tw', encoding='utf8') as f:\n",
    "        f.write(r.text)\n",
    "        print(f'{r.status_code} :-)')        \n",
    "else:\n",
    "    print(f'{r.status_code} :-(')"
   ]
  },
  {
   "cell_type": "code",
   "execution_count": 3,
   "metadata": {},
   "outputs": [],
   "source": [
    "strade = BeautifulSoup(r.text, 'lxml')"
   ]
  },
  {
   "cell_type": "markdown",
   "metadata": {},
   "source": [
    "Z łańcucha bajtów:"
   ]
  },
  {
   "cell_type": "code",
   "execution_count": 4,
   "metadata": {},
   "outputs": [],
   "source": [
    "strade = BeautifulSoup(r.content, 'lxml')"
   ]
  },
  {
   "cell_type": "markdown",
   "metadata": {},
   "source": [
    " Ze strumienia tekstu:"
   ]
  },
  {
   "cell_type": "code",
   "execution_count": 5,
   "metadata": {},
   "outputs": [],
   "source": [
    "with open('strade.html', encoding='utf8') as f:\n",
    "    strade = BeautifulSoup(f, 'lxml')"
   ]
  },
  {
   "cell_type": "markdown",
   "metadata": {},
   "source": [
    "### Parsery HTML\n",
    "\n",
    "`lxml` w wywołaniu\n",
    "\n",
    "```python\n",
    "BeautifulSoup(r.text, 'lxml')\n",
    "```\n",
    "\n",
    "oznacza nazwę parsera HTML/XML. Czas wywołania oraz wynikowa zupa mogą zależeć od użytego parsera.\n",
    "\n",
    "Informacje na temat różnych możliwych parserów i ich porównanie znajdziesz [tutaj](https://www.crummy.com/software/BeautifulSoup/bs4/doc/#installing-a-parser)."
   ]
  },
  {
   "cell_type": "markdown",
   "metadata": {},
   "source": [
    "### Obiekty\n",
    "\n",
    "Najważniejsze obiekty definiowane przez `BeautifulSoup` to\n",
    "\n",
    "* `BeautifulSoup`\n",
    "* `Tag`\n",
    "* `NavigableString`\n",
    "* `Comment`"
   ]
  },
  {
   "cell_type": "markdown",
   "metadata": {},
   "source": [
    "### `BeautifulSoup`\n",
    "\n",
    "Obiekt reprezentujący cały dokument:"
   ]
  },
  {
   "cell_type": "code",
   "execution_count": 6,
   "metadata": {},
   "outputs": [
    {
     "data": {
      "text/plain": [
       "bs4.BeautifulSoup"
      ]
     },
     "execution_count": 6,
     "metadata": {},
     "output_type": "execute_result"
    }
   ],
   "source": [
    "type(strade)"
   ]
  },
  {
   "cell_type": "markdown",
   "metadata": {},
   "source": [
    "Dokument nie jest znacznikiem i jako taki nie ma unikalnej nazwy. Dlatego atrybut `.name` jest nazwą specjalną dokumentu:"
   ]
  },
  {
   "cell_type": "code",
   "execution_count": 7,
   "metadata": {},
   "outputs": [
    {
     "data": {
      "text/plain": [
       "'[document]'"
      ]
     },
     "execution_count": 7,
     "metadata": {},
     "output_type": "execute_result"
    }
   ],
   "source": [
    "strade.name"
   ]
  },
  {
   "cell_type": "markdown",
   "metadata": {},
   "source": [
    "### `Tag`\n",
    "\n",
    "Obiekt `Tag` odpowiada elementowi HTML/XML:"
   ]
  },
  {
   "cell_type": "code",
   "execution_count": 8,
   "metadata": {},
   "outputs": [
    {
     "data": {
      "text/plain": [
       "bs4.element.Tag"
      ]
     },
     "execution_count": 8,
     "metadata": {},
     "output_type": "execute_result"
    }
   ],
   "source": [
    "zupa = BeautifulSoup('<b class=\"boldest\">Extremely bold</b>', 'html.parser')\n",
    "tag = zupa.b\n",
    "type(tag)"
   ]
  },
  {
   "cell_type": "markdown",
   "metadata": {},
   "source": [
    "### Nazwa znacznika\n",
    "\n",
    "Nazwa znacznika dostępna jest w atrybucie `Tag.name`: "
   ]
  },
  {
   "cell_type": "code",
   "execution_count": 9,
   "metadata": {},
   "outputs": [
    {
     "data": {
      "text/plain": [
       "'b'"
      ]
     },
     "execution_count": 9,
     "metadata": {},
     "output_type": "execute_result"
    }
   ],
   "source": [
    "tag.name"
   ]
  },
  {
   "cell_type": "markdown",
   "metadata": {},
   "source": [
    "### Atrybuty\n",
    "\n",
    "Dostęp do atrybutów znacznika po kluczu jak w słowniku:"
   ]
  },
  {
   "cell_type": "code",
   "execution_count": 10,
   "metadata": {},
   "outputs": [
    {
     "data": {
      "text/plain": [
       "'boldest'"
      ]
     },
     "execution_count": 10,
     "metadata": {},
     "output_type": "execute_result"
    }
   ],
   "source": [
    "tag = BeautifulSoup('<b id=\"boldest\">bold</b>', 'html.parser').b\n",
    "tag['id']"
   ]
  },
  {
   "cell_type": "markdown",
   "metadata": {},
   "source": [
    "Wszystkie atrybuty w atrybucie `Tag.attrs`:"
   ]
  },
  {
   "cell_type": "code",
   "execution_count": 11,
   "metadata": {},
   "outputs": [
    {
     "data": {
      "text/plain": [
       "{'id': 'boldest'}"
      ]
     },
     "execution_count": 11,
     "metadata": {},
     "output_type": "execute_result"
    }
   ],
   "source": [
    "tag.attrs"
   ]
  },
  {
   "cell_type": "markdown",
   "metadata": {},
   "source": [
    "### Atrybuty wielowartościowe\n",
    "\n",
    "Przechowywane są w typie listowym:"
   ]
  },
  {
   "cell_type": "code",
   "execution_count": 12,
   "metadata": {},
   "outputs": [
    {
     "data": {
      "text/plain": [
       "['body']"
      ]
     },
     "execution_count": 12,
     "metadata": {},
     "output_type": "execute_result"
    }
   ],
   "source": [
    "css_soup = BeautifulSoup('<p class=\"body\"></p>', 'html.parser')\n",
    "css_soup.p['class']"
   ]
  },
  {
   "cell_type": "code",
   "execution_count": 13,
   "metadata": {},
   "outputs": [
    {
     "data": {
      "text/plain": [
       "['body', 'strikeout']"
      ]
     },
     "execution_count": 13,
     "metadata": {},
     "output_type": "execute_result"
    }
   ],
   "source": [
    "css_soup = BeautifulSoup('<p class=\"body strikeout\"></p>', 'html.parser')\n",
    "css_soup.p['class']"
   ]
  },
  {
   "cell_type": "markdown",
   "metadata": {},
   "source": [
    "Jeśli atrybut wygląda jak wielowartościowy, ale w standardzie HTML zdefiniowany jest jako jednowartościowy, to biblioteka pozostawi go w formie tekstu:"
   ]
  },
  {
   "cell_type": "code",
   "execution_count": 14,
   "metadata": {},
   "outputs": [
    {
     "data": {
      "text/plain": [
       "'my id'"
      ]
     },
     "execution_count": 14,
     "metadata": {},
     "output_type": "execute_result"
    }
   ],
   "source": [
    "id_soup = BeautifulSoup('<p id=\"my id\"></p>', 'html.parser')\n",
    "id_soup.p['id']"
   ]
  },
  {
   "cell_type": "markdown",
   "metadata": {},
   "source": [
    "### `NavigableString`\n",
    "\n",
    "Porcja tekstu należąca do znacznika: "
   ]
  },
  {
   "cell_type": "code",
   "execution_count": 15,
   "metadata": {},
   "outputs": [
    {
     "data": {
      "text/plain": [
       "'Extremely bold'"
      ]
     },
     "execution_count": 15,
     "metadata": {},
     "output_type": "execute_result"
    }
   ],
   "source": [
    "soup = BeautifulSoup('<b class=\"boldest\">Extremely bold</b>', 'html.parser')\n",
    "tag = soup.b\n",
    "tag.string"
   ]
  },
  {
   "cell_type": "code",
   "execution_count": 16,
   "metadata": {},
   "outputs": [
    {
     "data": {
      "text/plain": [
       "bs4.element.NavigableString"
      ]
     },
     "execution_count": 16,
     "metadata": {},
     "output_type": "execute_result"
    }
   ],
   "source": [
    "type(tag.string)"
   ]
  },
  {
   "cell_type": "markdown",
   "metadata": {},
   "source": [
    "### Atrybuty znacznika\n",
    "\n",
    "#### Droga w dół\n",
    "\n",
    "* Znacznik *dziecko* jest atrybutem znacznika *rodzic*.\n",
    "* `.contents`, `.children`\n",
    "* `.descendants`\n",
    "* `.string`\n",
    "* `.strings`, `.stripped_strings`"
   ]
  },
  {
   "cell_type": "markdown",
   "metadata": {},
   "source": [
    "#### Droga w górę\n",
    "\n",
    "* `.parent`\n",
    "* `.parents`"
   ]
  },
  {
   "cell_type": "markdown",
   "metadata": {},
   "source": [
    "#### Wędrówka w bok\n",
    "\n",
    "* `.next_sibling`\n",
    "* `.previous_sibling`\n",
    "* `.next_siblings`\n",
    "* `.previous_siblings`"
   ]
  },
  {
   "cell_type": "markdown",
   "metadata": {},
   "source": [
    "#### Wędrówka naprzód i wstecz\n",
    "\n",
    "* `.next_element`\n",
    "* `.previous_element`\n",
    "* `.next_elements`\n",
    "* `.previous_elements`"
   ]
  },
  {
   "cell_type": "markdown",
   "metadata": {},
   "source": [
    "## Przeszukiwanie drzewa\n",
    "\n",
    "Metody `.find...()`"
   ]
  },
  {
   "cell_type": "markdown",
   "metadata": {},
   "source": [
    "### Filtry\n",
    "\n",
    "Obiekty dopasowywane z elementami podczas przeszukiwania drzewa."
   ]
  },
  {
   "cell_type": "markdown",
   "metadata": {},
   "source": [
    "### Rodzaje filtrów\n",
    "\n",
    "* Łańcuch znaków\n",
    "* Wyrażenie regularne\n",
    "* Lista\n",
    "* `True`\n",
    "* Funkcja"
   ]
  },
  {
   "cell_type": "markdown",
   "metadata": {},
   "source": [
    "#### Łańcuch znaków\n",
    "\n",
    "Przykład. Wszystkie znaczniki `<font>`:"
   ]
  },
  {
   "cell_type": "code",
   "execution_count": 17,
   "metadata": {},
   "outputs": [
    {
     "data": {
      "text/plain": [
       "[<font><span class=\"flag gb\"></span>gb</font>,\n",
       " <font>road</font>,\n",
       " <font class=\"hideIfMobile\">19th</font>,\n",
       " <font class=\"hideIfMobile\">(1.UWT)</font>]"
      ]
     },
     "execution_count": 17,
     "metadata": {},
     "output_type": "execute_result"
    }
   ],
   "source": [
    "strade.find_all('font')"
   ]
  },
  {
   "cell_type": "markdown",
   "metadata": {},
   "source": [
    "#### Wyrażenie regularne\n",
    "\n",
    "Przykład: Znaczniki zaczynające się literą `b`:"
   ]
  },
  {
   "cell_type": "code",
   "execution_count": 18,
   "metadata": {},
   "outputs": [
    {
     "data": {
      "text/plain": [
       "['base', 'base', 'body']"
      ]
     },
     "execution_count": 18,
     "metadata": {},
     "output_type": "execute_result"
    }
   ],
   "source": [
    "import re\n",
    "\n",
    "[t.name for t in strade.find_all(re.compile(r'^b'))]"
   ]
  },
  {
   "cell_type": "markdown",
   "metadata": {},
   "source": [
    "#### Lista\n",
    "\n",
    "Dopasowuje element z dowolnym filtrem z listy.\n",
    "\n",
    "Przykład. Znaczniki `<base>` oraz `<f...>`:"
   ]
  },
  {
   "cell_type": "code",
   "execution_count": 19,
   "metadata": {},
   "outputs": [
    {
     "data": {
      "text/plain": [
       "[<base href=\"https://www.procyclingstats.com/race.php\"/>,\n",
       " <base href=\"race.php\"/>,\n",
       " <form action=\"search.php\" class=\"msearch\"><input id=\"term\" type=\"hidden\"/>\n",
       " <input class=\"search4\" data-nav=\"race/-id-\" data-nav2=\"\" data-page=\"race\" id=\"search\" name=\"term\" placeholder=\"search\" type=\"text\"/></form>,\n",
       " <font><span class=\"flag gb\"></span>gb</font>,\n",
       " <font>road</font>,\n",
       " <form style=\"  \"><select onchange=\"window.location.href=this.value; \" style=\"width: calc(100% - 2px);\"><option selected=\"\" value=\"race/strade-bianche/2025/result\">2025</option><option value=\"race/strade-bianche/2024/result\">2024</option><option value=\"race/strade-bianche/2023/result\">2023</option><option value=\"race/strade-bianche/2022/result\">2022</option><option value=\"race/strade-bianche/2021/result\">2021</option><option value=\"race/strade-bianche/2020/result\">2020</option><option value=\"race/strade-bianche/2019/result\">2019</option><option value=\"race/strade-bianche/2018/result\">2018</option><option value=\"race/strade-bianche/2017/result\">2017</option><option value=\"race/strade-bianche/2016/result\">2016</option><option value=\"race/strade-bianche/2015/result\">2015</option><option value=\"race/strade-bianche/2014/result\">2014</option><option value=\"race/strade-bianche/2013/result\">2013</option><option value=\"race/strade-bianche/2012/result\">2012</option><option value=\"race/strade-bianche/2011/result\">2011</option><option value=\"race/strade-bianche/2010/result\">2010</option><option value=\"race/strade-bianche/2009/result\">2009</option><option value=\"race/strade-bianche/2008/result\">2008</option><option value=\"race/strade-bianche/2007/result\">2007</option></select></form>,\n",
       " <form style=\"  max-width: 150px; width: 100%;  \"><select onchange=\"window.location.href=this.value; \" style=\"width: calc(100% - 2px);\"><option selected=\"\" value=\"race/strade-bianche/2025\">ME</option><option value=\"race/strade-bianche-donne/2025\">WE</option></select></form>,\n",
       " <font class=\"hideIfMobile\">19th</font>,\n",
       " <font class=\"hideIfMobile\">(1.UWT)</font>]"
      ]
     },
     "execution_count": 19,
     "metadata": {},
     "output_type": "execute_result"
    }
   ],
   "source": [
    "strade.find_all(['base', re.compile(r'^f.*')])"
   ]
  },
  {
   "cell_type": "markdown",
   "metadata": {},
   "source": [
    "#### `True`\n",
    "\n",
    "Dopasowuje wszystko.\n",
    "\n",
    "Przykład. Nazwy wszystkich znaczników z dokumentu:"
   ]
  },
  {
   "cell_type": "code",
   "execution_count": 20,
   "metadata": {},
   "outputs": [
    {
     "data": {
      "text/plain": [
       "Counter({'td': 1750,\n",
       "         'span': 828,\n",
       "         'div': 548,\n",
       "         'a': 538,\n",
       "         'li': 196,\n",
       "         'input': 183,\n",
       "         'tr': 176,\n",
       "         'option': 79,\n",
       "         'ul': 30,\n",
       "         'path': 16,\n",
       "         'h3': 14,\n",
       "         'th': 10,\n",
       "         'svg': 8,\n",
       "         'g': 8,\n",
       "         'script': 7,\n",
       "         'link': 7,\n",
       "         'meta': 5,\n",
       "         'font': 4,\n",
       "         'select': 4,\n",
       "         'label': 4,\n",
       "         'form': 3,\n",
       "         'img': 3,\n",
       "         'base': 2,\n",
       "         'html': 1,\n",
       "         'head': 1,\n",
       "         'title': 1,\n",
       "         'body': 1,\n",
       "         'header': 1,\n",
       "         'h1': 1,\n",
       "         'h2': 1,\n",
       "         'table': 1,\n",
       "         'thead': 1,\n",
       "         'tbody': 1})"
      ]
     },
     "execution_count": 20,
     "metadata": {},
     "output_type": "execute_result"
    }
   ],
   "source": [
    "from collections import Counter\n",
    "\n",
    "Counter([a.name for a in strade.find_all(True)])"
   ]
  },
  {
   "cell_type": "markdown",
   "metadata": {},
   "source": [
    "#### Funkcja\n",
    "\n",
    "Jednoargumentowa funkcja gra rolę filtra, gdy wywoływana na elementach zwraca wartości `True`/`False`. Dopasowują się wtedy te elementy, dla których uzyskano `True`.\n",
    "\n",
    "Przykład. Znaczniki, które mają atrybut `id` ale nie `class`:"
   ]
  },
  {
   "cell_type": "code",
   "execution_count": 21,
   "metadata": {},
   "outputs": [
    {
     "data": {
      "text/plain": [
       "[<input id=\"term\" type=\"hidden\"/>,\n",
       " <input id=\"pageid\" type=\"hidden\" value=\"1190\"/>,\n",
       " <input id=\"userid\" type=\"hidden\" value=\"0\"/>]"
      ]
     },
     "execution_count": 21,
     "metadata": {},
     "output_type": "execute_result"
    }
   ],
   "source": [
    "def has_id_but_no_class(tag):\n",
    "    return not tag.has_attr('class') and tag.has_attr('id')\n",
    "\n",
    "strade.find_all(has_id_but_no_class)"
   ]
  },
  {
   "cell_type": "markdown",
   "metadata": {},
   "source": [
    "Gdy funkcja zostanie przekazana przez nazwę do metody wyszukującej, to nazwa będzie grała rolę atrybutu elementu, a do funkcji zostanie przekazana wartość tego atrybutu. Dopasują się te elementy, dla których funkcja zwróci `True`.\n",
    "\n",
    "Przykład. Znaczniki posiadające taki atrybut `href`, którego wartość zaczyna się napisem `race`:"
   ]
  },
  {
   "cell_type": "code",
   "execution_count": 22,
   "metadata": {},
   "outputs": [
    {
     "data": {
      "text/plain": [
       "[<base href=\"race.php\"/>,\n",
       " <a class=\"reg\" href=\"races.php\">Races</a>,\n",
       " <a href=\"race/tour-de-france\">Tour de France</a>,\n",
       " <a href=\"race/giro-d-italia\">Giro d'Italia</a>]"
      ]
     },
     "execution_count": 22,
     "metadata": {},
     "output_type": "execute_result"
    }
   ],
   "source": [
    "def has_race_as_value(href_value):\n",
    "    return href_value and href_value.startswith('race')\n",
    "\n",
    "strade.find_all(True, href=has_race_as_value)[:4]"
   ]
  },
  {
   "cell_type": "markdown",
   "metadata": {},
   "source": [
    "### `.find_all()`\n",
    "\n",
    "Sygnatura metody:\n",
    "\n",
    "```python\n",
    "obj.find_all(name, attrs, recursive, string, limit, **kwargs)\n",
    "```\n",
    "\n",
    "Sprawdza dopasowanie do filtrów dla wszystkich potomków `obj`. Wynik zwraca w postaci listy."
   ]
  },
  {
   "cell_type": "markdown",
   "metadata": {},
   "source": [
    "#### `name`\n",
    "\n",
    "Odnosi się do nazw znaczników. Pomija stringi. Wartość `name` jest dowolnym filtrem, czyli łańcuchem znaków, wyrażeniem regularnym, listą, funkcją lub wartością `True`."
   ]
  },
  {
   "cell_type": "markdown",
   "metadata": {},
   "source": [
    "#### Argumenty `find_all()` podawane nazwą\n",
    "\n",
    "Argument podany wraz z nazwą, która nie została rozpoznany, czyli argument o nazwie innej niż jedna z `name, attrs, recursive, string, limit`, jest traktowany jako atrybut znacznika o wartości dopasowywanej do filtra.\n",
    "\n",
    "Przykład. Znaczniki `<a>` o pustym atrybucie `href`:"
   ]
  },
  {
   "cell_type": "code",
   "execution_count": 23,
   "metadata": {},
   "outputs": [
    {
     "data": {
      "text/plain": [
       "[<a class=\"mobMenu\" href=\"\">☰ Menu</a>,\n",
       " <a class=\"more4 toggleNavDropdown\" href=\"\">▼</a>,\n",
       " <a class=\"more4 toggleNavDropdown\" href=\"\">▼</a>,\n",
       " <a class=\"more4 toggleNavDropdown\" href=\"\">▼</a>,\n",
       " <a class=\"more4 toggleNavDropdown\" href=\"\">▼</a>,\n",
       " <a></a>,\n",
       " <a class=\"clearFilter blue hide\" href=\"\" style=\"padding: 0px 7px; \">clear filter</a>]"
      ]
     },
     "execution_count": 23,
     "metadata": {},
     "output_type": "execute_result"
    }
   ],
   "source": [
    "strade.find_all('a', href='')"
   ]
  },
  {
   "cell_type": "markdown",
   "metadata": {},
   "source": [
    "Znaczniki, w których wartością atrybutu `class` jest `'reg'`. Ponieważ `class` jest słowem zarezerwowanym w Pythonie, więc stosuje się zastępczą nazwę `class_`:"
   ]
  },
  {
   "cell_type": "code",
   "execution_count": 24,
   "metadata": {},
   "outputs": [
    {
     "data": {
      "text/plain": [
       "[<a class=\"reg\" href=\"index.php\">Home</a>,\n",
       " <a class=\"reg\" href=\"races.php\">Races</a>,\n",
       " <a class=\"reg\" href=\"teams.php\">Teams</a>,\n",
       " <a class=\"reg\" href=\"rankings.php\">Rankings</a>,\n",
       " <a class=\"reg\" href=\"statistics.php\">Statistics</a>]"
      ]
     },
     "execution_count": 24,
     "metadata": {},
     "output_type": "execute_result"
    }
   ],
   "source": [
    "strade.find_all(class_='reg')[:5]"
   ]
  },
  {
   "cell_type": "markdown",
   "metadata": {},
   "source": [
    "Znaczniki, które posiadają atrybut `href` o wartości zaczynającej się od napisu `'race'`:"
   ]
  },
  {
   "cell_type": "code",
   "execution_count": 25,
   "metadata": {},
   "outputs": [
    {
     "data": {
      "text/plain": [
       "[<base href=\"race.php\"/>,\n",
       " <a class=\"reg\" href=\"races.php\">Races</a>,\n",
       " <a href=\"race/tour-de-france\">Tour de France</a>,\n",
       " <a href=\"race/giro-d-italia\">Giro d'Italia</a>,\n",
       " <a href=\"race/vuelta-a-espana\">La Vuelta ciclista a España</a>]"
      ]
     },
     "execution_count": 25,
     "metadata": {},
     "output_type": "execute_result"
    }
   ],
   "source": [
    "strade.find_all(href=re.compile(r'^race'))[:5]"
   ]
  },
  {
   "cell_type": "markdown",
   "metadata": {},
   "source": [
    "Znaczniki, które posiadają atrybut `href` o wartości zaczynającej się od napisu `'race'` i nie posiadają atrybutu `class`:"
   ]
  },
  {
   "cell_type": "code",
   "execution_count": 26,
   "metadata": {},
   "outputs": [
    {
     "data": {
      "text/plain": [
       "[<base href=\"race.php\"/>,\n",
       " <a href=\"race/tour-de-france\">Tour de France</a>,\n",
       " <a href=\"race/giro-d-italia\">Giro d'Italia</a>,\n",
       " <a href=\"race/vuelta-a-espana\">La Vuelta ciclista a España</a>,\n",
       " <a href=\"race/world-championship\">World Championships</a>]"
      ]
     },
     "execution_count": 26,
     "metadata": {},
     "output_type": "execute_result"
    }
   ],
   "source": [
    "strade.find_all(href=re.compile(r'^race'), class_=None)[:5]"
   ]
  },
  {
   "cell_type": "markdown",
   "metadata": {},
   "source": [
    "Znaczniki, które posiadają atrybut `href` o wartości zaczynającej się od napisu `'race'` i nie posiadają atrybutu `class` lub mają ten atrybut pusty:"
   ]
  },
  {
   "cell_type": "code",
   "execution_count": 27,
   "metadata": {},
   "outputs": [
    {
     "data": {
      "text/plain": [
       "[<base href=\"race.php\"/>,\n",
       " <a href=\"race/tour-de-france\">Tour de France</a>,\n",
       " <a href=\"race/giro-d-italia\">Giro d'Italia</a>,\n",
       " <a href=\"race/vuelta-a-espana\">La Vuelta ciclista a España</a>,\n",
       " <a href=\"race/world-championship\">World Championships</a>]"
      ]
     },
     "execution_count": 27,
     "metadata": {},
     "output_type": "execute_result"
    }
   ],
   "source": [
    "strade.find_all(href=re.compile(r'^race'), class_='')[:5]"
   ]
  },
  {
   "cell_type": "markdown",
   "metadata": {},
   "source": [
    "Znaczniki, które posiadają atrybut `href` o wartości zaczynającej się od napisu `'race'` i  posiadają atrybutu `class` pusty lub nie:"
   ]
  },
  {
   "cell_type": "code",
   "execution_count": 28,
   "metadata": {},
   "outputs": [
    {
     "data": {
      "text/plain": [
       "[<a class=\"reg\" href=\"races.php\">Races</a>,\n",
       " <a class=\"cur\" href=\"race/strade-bianche/2025/result\">Results</a>,\n",
       " <a class=\"\" href=\"race/strade-bianche/2025/result/info\">Info▼</a>,\n",
       " <a class=\"\" href=\"race/strade-bianche/2025/result/live\">Live</a>,\n",
       " <a class=\"\" href=\"race/strade-bianche/2025/result/game\">Game</a>]"
      ]
     },
     "execution_count": 28,
     "metadata": {},
     "output_type": "execute_result"
    }
   ],
   "source": [
    "strade.find_all(href=re.compile(r'^race'), class_=True)[:5]"
   ]
  },
  {
   "cell_type": "markdown",
   "metadata": {},
   "source": [
    "Znaczniki, które posiadają atrybut `data-n` o wartości `0`, `1` lub `2`. Tego atrybutu nie można przekazać jako nazwy argumentu. Dlatego korzystamy z parametru `attrs`:"
   ]
  },
  {
   "cell_type": "code",
   "execution_count": 29,
   "metadata": {},
   "outputs": [
    {
     "data": {
      "text/plain": [
       "[<li data-n=\"1\"><a href=\"race/strade-bianche/2025/result/result/result\">Results - Results</a></li>,\n",
       " <li data-n=\"2\"><a href=\"race/strade-bianche/2025/result/info/info\">Info - Info</a></li>,\n",
       " <li data-n=\"1\"><a href=\"race/strade-bianche/2025/result/info/complementary-results\">Complementary results</a></li>,\n",
       " <li data-n=\"1\"><a href=\"race/strade-bianche/2025/result/info/photos\">Finish photo</a></li>,\n",
       " <li data-n=\"1\"><a href=\"race/strade-bianche/2025/result/info/profiles\">Profiles</a></li>,\n",
       " <li data-n=\"1\"><a href=\"race/strade-bianche/2025/result/info/time-table\">Time table</a></li>]"
      ]
     },
     "execution_count": 29,
     "metadata": {},
     "output_type": "execute_result"
    }
   ],
   "source": [
    "strade.find_all(attrs={'data-n': re.compile(r'^[012]$')})"
   ]
  },
  {
   "cell_type": "markdown",
   "metadata": {},
   "source": [
    "Znaczniki, w których jedna z wartości atrybutu `class` ma wartość `toggleNavDropdown`:"
   ]
  },
  {
   "cell_type": "code",
   "execution_count": 30,
   "metadata": {},
   "outputs": [
    {
     "data": {
      "text/plain": [
       "[<a class=\"more4 toggleNavDropdown\" href=\"\">▼</a>,\n",
       " <a class=\"more4 toggleNavDropdown\" href=\"\">▼</a>,\n",
       " <a class=\"more4 toggleNavDropdown\" href=\"\">▼</a>,\n",
       " <a class=\"more4 toggleNavDropdown\" href=\"\">▼</a>]"
      ]
     },
     "execution_count": 30,
     "metadata": {},
     "output_type": "execute_result"
    }
   ],
   "source": [
    "strade.find_all(class_='toggleNavDropdown')"
   ]
  },
  {
   "cell_type": "markdown",
   "metadata": {},
   "source": [
    "#### `string`\n",
    "\n",
    "Wartością parametru `string` jest dowolny filtr. Metoda przeszukuje wtedy stringi zamiast znaczników.\n",
    "\n",
    "Przykład. Wszystkie stringi:"
   ]
  },
  {
   "cell_type": "code",
   "execution_count": 31,
   "metadata": {},
   "outputs": [
    {
     "data": {
      "text/plain": [
       "['HTML',\n",
       " ' Global site tag (gtag.js) - Google Analytics ',\n",
       " '\\n',\n",
       " '\\n',\n",
       " \"\\n  window.dataLayer = window.dataLayer || [];\\n  function gtag(){dataLayer.push(arguments);}\\n  gtag('js', new Date());\\n\\n  gtag('config', 'G-2MNJ20S7SJ');\\n\"]"
      ]
     },
     "execution_count": 31,
     "metadata": {},
     "output_type": "execute_result"
    }
   ],
   "source": [
    "strade.find_all(string=True)[:5]"
   ]
  },
  {
   "cell_type": "markdown",
   "metadata": {},
   "source": [
    "Stringi składające się z dwóch słów: pierwsze wielkimi literami z zakresu A-Z, drugie zaczyna się wielką literą, dalej małe, zakres a-z:"
   ]
  },
  {
   "cell_type": "code",
   "execution_count": 32,
   "metadata": {},
   "outputs": [
    {
     "data": {
      "text/plain": [
       "['INEOS Grenadiers',\n",
       " 'INEOS Grenadiers',\n",
       " 'PIDCOCK Thomas',\n",
       " 'WELLENS Tim',\n",
       " 'HEALY Ben']"
      ]
     },
     "execution_count": 32,
     "metadata": {},
     "output_type": "execute_result"
    }
   ],
   "source": [
    "strade.find_all(string=re.compile(r'^[A-Z]+\\s[A-Z][a-z]+$'))[:5]"
   ]
  },
  {
   "cell_type": "markdown",
   "metadata": {},
   "source": [
    "#### `limit`\n",
    "\n",
    "Ograniczenie z góry liczby znalezionych wyników.\n",
    "\n",
    "Przykład. 5 pierwszych znaczników `<a>`:"
   ]
  },
  {
   "cell_type": "code",
   "execution_count": 33,
   "metadata": {},
   "outputs": [
    {
     "data": {
      "text/plain": [
       "[<a class=\"logo\" href=\"index.php\"></a>,\n",
       " <a class=\"mobMenu\" href=\"\">☰ Menu</a>,\n",
       " <a class=\"reg\" href=\"index.php\">Home</a>,\n",
       " <a class=\"reg\" href=\"races.php\">Races</a>,\n",
       " <a class=\"more4 toggleNavDropdown\" href=\"\">▼</a>]"
      ]
     },
     "execution_count": 33,
     "metadata": {},
     "output_type": "execute_result"
    }
   ],
   "source": [
    "strade.find_all('a', limit=5)"
   ]
  },
  {
   "cell_type": "markdown",
   "metadata": {},
   "source": [
    "#### `recursive`\n",
    "\n",
    "Jeśli `False`, to przeszukiwani są tylko bezpośredni potomkowie.\n",
    "\n",
    "Przykład."
   ]
  },
  {
   "cell_type": "code",
   "execution_count": 34,
   "metadata": {},
   "outputs": [
    {
     "data": {
      "text/plain": [
       "2"
      ]
     },
     "execution_count": 34,
     "metadata": {},
     "output_type": "execute_result"
    }
   ],
   "source": [
    "len(strade.body.div.div.find_all('a', recursive=False))"
   ]
  },
  {
   "cell_type": "code",
   "execution_count": 35,
   "metadata": {},
   "outputs": [
    {
     "data": {
      "text/plain": [
       "67"
      ]
     },
     "execution_count": 35,
     "metadata": {},
     "output_type": "execute_result"
    }
   ],
   "source": [
    "len(strade.body.div.div.find_all('a', recursive=True))"
   ]
  },
  {
   "cell_type": "markdown",
   "metadata": {},
   "source": [
    "### Znacznik jest wywoływalny\n",
    "\n",
    "Znaczniki HTML i obiekty BeautifulSoup są wywoływalne. Wywołanie to odpowiada wywołaniu metody `.find_all()`.\n",
    "\n",
    "Przykład. Znaczniki `<a>` zawierające atrybut `href` ze słowem `race`:"
   ]
  },
  {
   "cell_type": "code",
   "execution_count": 36,
   "metadata": {},
   "outputs": [
    {
     "data": {
      "text/plain": [
       "[<a class=\"reg\" href=\"races.php\">Races</a>,\n",
       " <a href=\"race/tour-de-france\">Tour de France</a>,\n",
       " <a href=\"race/giro-d-italia\">Giro d'Italia</a>,\n",
       " <a href=\"race/vuelta-a-espana\">La Vuelta ciclista a España</a>,\n",
       " <a href=\"race/world-championship\">World Championships</a>]"
      ]
     },
     "execution_count": 36,
     "metadata": {},
     "output_type": "execute_result"
    }
   ],
   "source": [
    "strade.body('a', href=re.compile('race'))[:5]"
   ]
  },
  {
   "cell_type": "markdown",
   "metadata": {},
   "source": [
    "Znaczniki `<a>` zawierające atrybut `href` ze słowem `race` i posiadające atrybut `class`:"
   ]
  },
  {
   "cell_type": "code",
   "execution_count": 37,
   "metadata": {},
   "outputs": [
    {
     "data": {
      "text/plain": [
       "[<a class=\"reg\" href=\"races.php\">Races</a>,\n",
       " <a class=\"cur\" href=\"race/strade-bianche/2025/result\">Results</a>,\n",
       " <a class=\"\" href=\"race/strade-bianche/2025/result/info\">Info▼</a>,\n",
       " <a class=\"\" href=\"race/strade-bianche/2025/result/live\">Live</a>,\n",
       " <a class=\"\" href=\"race/strade-bianche/2025/result/game\">Game</a>,\n",
       " <a class=\"\" href=\"race/strade-bianche/2025/result/statistics\">Stats</a>,\n",
       " <a class=\"\" href=\"race/strade-bianche/2025/result/more\">More▼</a>,\n",
       " <a class=\"goto mr10 fs14\" href=\"race/strade-bianche/2025/result/live\" style=\"\">LiveStats</a>]"
      ]
     },
     "execution_count": 37,
     "metadata": {},
     "output_type": "execute_result"
    }
   ],
   "source": [
    "strade.body('a', href=re.compile('race'), class_=True)"
   ]
  },
  {
   "cell_type": "markdown",
   "metadata": {},
   "source": [
    "### `.find()`\n",
    "\n",
    "Sygnatura metody:\n",
    "\n",
    "```python\n",
    "obj.find_all(name, attrs, recursive, string, **kwargs)\n",
    "```\n",
    "\n",
    "Sprawdza dopasowanie do filtrów dla potomków `obj`. Zwraca pierwsze znalezione dopasowanie lub `None`, jeśli dopasowania nie ma. Argumenty odpowiadają argumentom `.find_all()`.\n",
    "\n",
    "Niemal ten sam efekt osiągniemy wywołując `.find_all()` z argumentem `limit=1`. Róznica jest taka, że `.find_all()` zwróci listę z jedną wartością lub listę pustą, a `.find()` zwróci znaleziony element lub `None`."
   ]
  },
  {
   "cell_type": "markdown",
   "metadata": {},
   "source": [
    "## Pozostałe metody wyszukujące\n",
    "\n",
    "Metody `.find...()` są wariantami `.find_all()` lub `.find()`. Różnice między nimi są efektem zakresu przeszukiwanego drzewa. Argumenty tych metod odpowiadają argumentom `.find_all()` lub `.find()`.\n",
    "\n",
    "* `.find_parents()`, `find_parent()`\n",
    "* `.find_next_siblings()`, `.find_next_sibling()`\n",
    "* `.find_previous_siblings()`, `.find_previous_sibling()`\n",
    "* `.find_all_next()`, `.find_next()`\n",
    "* `.find_all_previous()`, `.find_previous()`"
   ]
  },
  {
   "cell_type": "markdown",
   "metadata": {},
   "source": [
    "## Przeszukiwanie drzewa z wykorzystaniem selektorów CSS\n",
    "\n",
    "Funkcja `select()` przeszukuje drzewo z wykorzystaniem selektorów CSS. Zwraca listę znalezionych elementów.\n",
    "\n",
    "Sygnatura funkcji:\n",
    "\n",
    "```python\n",
    "BeautifulSoup.select(selector)\n",
    "```\n",
    "\n",
    "lub \n",
    "\n",
    "```python\n",
    "Tag.select(selector)\n",
    "```\n",
    "\n",
    "gdzie `selector` to łańcuch znaków zawierający selektor CSS.\n",
    "\n",
    "Funkcja obsługuje większość standardowych selektorów CSS, takich jak:\n",
    "   - Selektory tagów: `select('p')` - wszystkie elementy `<p>`\n",
    "   - Selektory klas: `select('.klasa')` - elementy z klasą \"klasa\"\n",
    "   - Selektory ID: `select('#id')` - element z ID \"id\"\n",
    "   - Selektory atrybutów: `select('[attr=value]')` - elementy z atrybutem \"attr\" o wartości \"value\"\n",
    "   - Selektory zagnieżdżone: `select('div p')` - elementy `<p>` wewnątrz `<div>`\n",
    "   - Selektory potomków bezpośrednich: `select('div > p')` - elementy `<p>` będące bezpośrednimi potomkami `<div>`\n",
    "\n",
    "Zwraca listę obiektów `Tag`."
   ]
  },
  {
   "cell_type": "markdown",
   "metadata": {},
   "source": [
    "## Ćwiczenie\n",
    "\n",
    "Pobierz do pliku CSV tabelę z wynikami wyścigu [Strade Bianche 2025](https://www.procyclingstats.com/race/strade-bianche/2025/result)."
   ]
  }
 ],
 "metadata": {
  "kernelspec": {
   "display_name": "py312",
   "language": "python",
   "name": "python3"
  },
  "language_info": {
   "codemirror_mode": {
    "name": "ipython",
    "version": 3
   },
   "file_extension": ".py",
   "mimetype": "text/x-python",
   "name": "python",
   "nbconvert_exporter": "python",
   "pygments_lexer": "ipython3",
   "version": "3.12.4"
  }
 },
 "nbformat": 4,
 "nbformat_minor": 2
}
