{
 "cells": [
  {
   "cell_type": "markdown",
   "metadata": {},
   "source": [
    "# Automatyczne pozyskiwanie danych\n",
    "\n",
    "## Tomasz Rodak\n",
    "\n",
    "# Lab 7\n",
    "\n",
    "---"
   ]
  },
  {
   "cell_type": "markdown",
   "metadata": {},
   "source": [
    "## Zadanie 7.1\n",
    "\n",
    "Napisz program wyświetlający tytuł losowej strony Wikipedii. Użyj do tego API Wikipedii.\n",
    "\n",
    "---"
   ]
  },
  {
   "cell_type": "markdown",
   "metadata": {},
   "source": [
    "## Zadanie 7.2\n",
    "\n",
    "Uruchom i przeanalizuj działanie programu [wisielec](https://github.com/rodakt/wisielec).\n",
    "\n",
    "---"
   ]
  },
  {
   "cell_type": "markdown",
   "metadata": {},
   "source": [
    "## Zadanie 7.3\n",
    "\n",
    "Napisz program, który będzie wyświetlał tytuły wszystkich artykułów, do których prowadzą linki z wybranego artykułu Wikipedii. \n",
    "\n",
    "---"
   ]
  },
  {
   "cell_type": "markdown",
   "metadata": {},
   "source": [
    "## Zadanie 7.4\n",
    "\n",
    "Napisz program, który wychodząc od ustalonego hasła Wikipedii będzie losowo podążał za kolejnymi hasłami, do których prowadzą linki w artykule. Ustaw limit liczby przeglądanych artykułów. Pomiędzy żądaniami dodaj opóźnienie 1 sekundy. \n",
    "\n",
    "---"
   ]
  },
  {
   "cell_type": "markdown",
   "metadata": {},
   "source": [
    "## Zadanie 7.5\n",
    "\n",
    "Napisz program, który wychodząc od ustalonego hasła Wikipedii będzie przechodził przez (teoretycznie) wszystkie hasła Wikipedii algorytmem BFS. Ustaw limit liczby przeglądanych artykułów i głębokości przeszukiwania. Pomiędzy żądaniami dodaj opóźnienie 1 sekundy.\n",
    "\n",
    "---"
   ]
  }
 ],
 "metadata": {
  "kernelspec": {
   "display_name": "base",
   "language": "python",
   "name": "python3"
  },
  "language_info": {
   "codemirror_mode": {
    "name": "ipython",
    "version": 3
   },
   "file_extension": ".py",
   "mimetype": "text/x-python",
   "name": "python",
   "nbconvert_exporter": "python",
   "pygments_lexer": "ipython3",
   "version": "3.12.7"
  }
 },
 "nbformat": 4,
 "nbformat_minor": 2
}
