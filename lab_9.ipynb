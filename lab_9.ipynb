{
 "cells": [
  {
   "cell_type": "markdown",
   "metadata": {},
   "source": [
    "# Automatyczne pozyskiwanie danych\n",
    "\n",
    "## Tomasz Rodak\n",
    "\n",
    "# Lab 9\n",
    "\n",
    "---"
   ]
  },
  {
   "cell_type": "markdown",
   "metadata": {},
   "source": [
    "## Zadanie 9.1\n",
    "\n",
    "Napisz program asynchroniczny, który symuluje pobieranie danych z trzech różnych źródeł. Każde źródło ma różny czas odpowiedzi (1s, 2s, 3s). Zaimplementuj:\n",
    "\n",
    "1. Wersję sekwencyjną używającą korutyn (jedna po drugiej)\n",
    "2. Wersję współbieżną używającą `asyncio.create_task()`\n",
    "3. Wersję używającą `asyncio.gather()`\n",
    "\n",
    "Porównaj czasy wykonania wszystkich trzech podejść.\n",
    "\n",
    "---"
   ]
  }
 ],
 "metadata": {
  "kernelspec": {
   "display_name": "base",
   "language": "python",
   "name": "python3"
  },
  "language_info": {
   "codemirror_mode": {
    "name": "ipython",
    "version": 3
   },
   "file_extension": ".py",
   "mimetype": "text/x-python",
   "name": "python",
   "nbconvert_exporter": "python",
   "pygments_lexer": "ipython3",
   "version": "3.12.7"
  }
 },
 "nbformat": 4,
 "nbformat_minor": 2
}
