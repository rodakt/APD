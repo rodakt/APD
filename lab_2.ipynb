{
 "cells": [
  {
   "cell_type": "markdown",
   "metadata": {},
   "source": [
    "# Automatyczne pozyskiwanie danych\n",
    "\n",
    "## Tomasz Rodak\n",
    "\n",
    "# Lab 2\n",
    "\n",
    "---"
   ]
  },
  {
   "cell_type": "markdown",
   "metadata": {},
   "source": [
    "## Zadanie 2.1\n",
    "\n",
    "Uruchom i przetestuj działanie programu `prosty_serwer_http.py` z wykładu 1.\n",
    "\n",
    "---"
   ]
  },
  {
   "cell_type": "markdown",
   "metadata": {},
   "source": [
    "## Zadanie 2.2\n",
    "\n",
    "Napisz serwer, który z pewnym domyślnie ustawionym opóźnieniem (np. 5 sekund) odpowiada na żądanie GET zwracając status 200 i tekst \"Witaj, świecie!\". Wykorzystaj bibliotekę `http.server`.\n",
    "\n",
    "1. Wykonaj zapytanie do serwera z użyciem `curl` i zbadaj czas odpowiedzi. Jaki jest czas oczekiwania, jeśli wykonasz dwa zapytania w dwóch różnych terminalach mniej więcej w tym samym czasie? Skomentuj rezultat.\n",
    "2. Wykonaj zapytanie do serwera z użyciem `curl` z flagą `-max-time`. Co się wówczas dzieje? Jaki wpływ na wynik ma położenie funkcji opóźniającej w kodzie metody `do_GET()`?\n",
    "\n",
    "---"
   ]
  },
  {
   "cell_type": "markdown",
   "metadata": {},
   "source": [
    "## Zadanie 2.3\n",
    "\n",
    "Napisz serwer, który ma odbierać żądania HTTP i zwracać odpowiedzi zgodnie z poniższym schematem:\n",
    "- jeśli otrzyma żądanie GET na adres `/`, to zwraca kod stanu 200 i treść `Witaj na moim serwerze!`\n",
    "- jeśli otrzyma żądanie GET na adres `/fib&n=<liczba>`, to zwraca kod stanu 200 i treść będącą $n$-tym wyrazem ciągu Fibonacciego\n",
    "- jeśli otrzyma żądanie GET na adres `/gcd?a=<liczba>&b=<liczba>`, to zwraca kod stanu 200 i treść będącą największym wspólnym dzielnikiem liczb $a$ i $b$\n",
    "- w pozostałych przypadkach zwraca kod stanu 404 i treść `Nie znaleziono`\n",
    "\n",
    "Zawartość odpowiedzi powinna być zwracana w formacie tekstowym w kodowaniu UTF-8 (MIME `text/plain`, ustaw odpowiedni nagłówek). W miarę możliwości dodaj obsługę błędów.\n",
    "\n",
    "---"
   ]
  }
 ],
 "metadata": {
  "kernelspec": {
   "display_name": "base",
   "language": "python",
   "name": "python3"
  },
  "language_info": {
   "codemirror_mode": {
    "name": "ipython",
    "version": 3
   },
   "file_extension": ".py",
   "mimetype": "text/x-python",
   "name": "python",
   "nbconvert_exporter": "python",
   "pygments_lexer": "ipython3",
   "version": "3.12.7"
  }
 },
 "nbformat": 4,
 "nbformat_minor": 2
}
