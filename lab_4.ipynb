{
 "cells": [
  {
   "cell_type": "markdown",
   "metadata": {},
   "source": [
    "# Automatyczne pozyskiwanie danych\n",
    "\n",
    "## Tomasz Rodak\n",
    "\n",
    "# Lab 4\n",
    "\n",
    "---"
   ]
  },
  {
   "cell_type": "markdown",
   "metadata": {},
   "source": [
    "## Zadanie 4.1\n",
    "\n",
    "Pobierz do pliku CSV tabelę z rezultatami wyścigu [Milan-Sanremo](https://www.procyclingstats.com/race/milano-sanremo/2024/result).\n",
    "\n",
    "\n",
    "---"
   ]
  },
  {
   "cell_type": "markdown",
   "metadata": {},
   "source": [
    "## Zadanie 4.2\n",
    "\n",
    "Pobierz do pliku CSV ranking 500 najlepszych filmów ze strony [Filmweb](https://www.filmweb.pl/ranking/film). Twoja tabela powinna zawierać (co najmniej) pozycję w rankingu, tytuł, tytuł w wersji oryginalnej, rok produkcji, ocenę, liczbę głosów, gatunek.\n",
    "\n",
    "---"
   ]
  },
  {
   "cell_type": "markdown",
   "metadata": {},
   "source": [
    "## Zadanie 4.3\n",
    "\n",
    "Pobierz do pliku CSV ranking 1000 najlepszych filmów ze strony [IMDb](https://www.imdb.com/search/title/?count=100&groups=top_1000&sort=user_rating). Postaraj się pobrać jak najwięcej informacji (ale bez wchodzenia do podstron filmów).\n",
    "\n",
    "---"
   ]
  },
  {
   "cell_type": "markdown",
   "metadata": {},
   "source": [
    "## Zadanie 4.4\n",
    "\n",
    "Pobierz do pliku CSV rankingi uniwersytetów ze stron:\n",
    "\n",
    "1. https://www.topuniversities.com/world-university-rankings\n",
    "2. https://cwur.org/2021-22.php\n",
    "3. https://roundranking.com/ranking/index.html?year=2024&dimns=O&srt=rf&loc=&shw=25&1742246321963\n",
    "\n",
    "---"
   ]
  },
  {
   "cell_type": "markdown",
   "metadata": {},
   "source": [
    "## Zadanie 4.5\n",
    "\n",
    "Pobierz do pliku CSV ranking krajów ze strony \n",
    "\n",
    "https://www.usnews.com/news/best-countries/rankings\n",
    "\n",
    "---"
   ]
  }
 ],
 "metadata": {
  "kernelspec": {
   "display_name": "base",
   "language": "python",
   "name": "python3"
  },
  "language_info": {
   "codemirror_mode": {
    "name": "ipython",
    "version": 3
   },
   "file_extension": ".py",
   "mimetype": "text/x-python",
   "name": "python",
   "nbconvert_exporter": "python",
   "pygments_lexer": "ipython3",
   "version": "3.12.7"
  }
 },
 "nbformat": 4,
 "nbformat_minor": 2
}
