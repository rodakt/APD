{
 "cells": [
  {
   "cell_type": "markdown",
   "metadata": {},
   "source": [
    "# Automatyczne pozyskiwanie danych\n",
    "\n",
    "## Tomasz Rodak\n",
    "\n",
    "# Lab 3\n",
    "\n",
    "---"
   ]
  },
  {
   "cell_type": "markdown",
   "metadata": {},
   "source": [
    "## Zadanie 3.1\n",
    "\n",
    "Ciąg Collatza definiujemy następująco:\n",
    "\n",
    "\\begin{equation*}\n",
    "\\begin{aligned}\n",
    "a_0 &= n, \\\\\n",
    "a_{i+1} &= \\begin{cases}\n",
    "\\frac{a_i}{2} & \\text{jeśli } a_i \\text{ jest parzyste}, \\\\\n",
    "3a_i + 1 & \\text{jeśli } a_i \\text{ jest nieparzyste}.\n",
    "\\end{cases}\n",
    "\\end{aligned}\n",
    "\\end{equation*}\n",
    "\n",
    "Liczba $n\\in\\mathbb{N}$ jest początkowym wyrazem ciągu. Przykładowo, dla $n=6$ mamy ciąg $6, 3, 10, 5, 16, 8, 4, 2, 1$. Ponieważ $4, 2, 1$ jest cyklem, więc nic nowego dalej już nie zobaczymy. Hipoteza Collatza zakłada, że dla każdej liczby naturalnej $n$ ciąg ten zawsze kończy się na cyklu $4, 2, 1$.\n",
    "\n",
    "Napisz serwer, który ma odbierać żądania HTTP i zwracać odpowiedzi zgodnie z poniższym schematem:\n",
    "- jeśli otrzyma żądanie GET na adres `/`, to zwraca kod stanu 200 i HTML postaci:\n",
    "```html\n",
    "<!DOCTYPE html>\n",
    "<html>\n",
    "<head>\n",
    "    <title>Ciąg Collatza</title>\n",
    "</head>\n",
    "<body>\n",
    "    <h1>Witaj na stronie ciągu Collatza!</h1>\n",
    "    <p>Podaj liczbę, aby zobaczyć ciąg Collatza.</p>\n",
    "    <form action=\"/collatz\" method=\"get\">\n",
    "        <label for=\"n\">Liczba:</label>\n",
    "        <input type=\"number\" id=\"n\" name=\"n\">\n",
    "        <input type=\"submit\" value=\"Wyślij\">\n",
    "    </form>\n",
    "</body>\n",
    "</html>\n",
    "```\n",
    "- jeśli otrzyma żądanie GET na adres `/collatz?n=<liczba>`, to zwraca kod stanu 200 i HTML postaci:\n",
    "```html\n",
    "<!DOCTYPE html>\n",
    "<html>\n",
    "<head>\n",
    "    <title>Ciąg Collatza</title>\n",
    "</head>\n",
    "<body>\n",
    "    <h1>Aktualna liczba: <liczba></h1>\n",
    "    <p>Następna liczba: <a href=\"/collatz?n=<następna liczba>\"><następna liczba></a></p>\n",
    "</body>\n",
    "</html>\n",
    "```\n",
    "gdzie `<liczba>` to aktualny wyraz ciągu Collatza, a `<następna liczba>` to kolejny wyraz ciągu Collatza. Jeśli aktualny wyraz ciągu jest równy 1, to zwróć informację o zakończeniu ciągu.\n",
    "- w pozostałych przypadkach zwraca kod stanu 404 i treść `Nie znaleziono`\n",
    "\n",
    "---"
   ]
  },
  {
   "cell_type": "markdown",
   "metadata": {},
   "source": [
    "## Zadanie 3.2\n",
    "\n",
    "Napisz crawler wędrujący po serwerze z zadania 3.1. Program zaczyna od ustalonej początkowej liczby i następnie podąża za odpowiedziami serwera aż do kończącej jedynki. Wykonaj jakąś formę raportowania pracy programu, np. wypisuj kolejne znalezione liczby na ekran.\n",
    "\n",
    "---"
   ]
  },
  {
   "cell_type": "markdown",
   "metadata": {},
   "source": [
    "## Zadanie 3.3\n",
    "\n",
    "Pobierz do pliku CSV tabelę z rezultatami wyścigu [Milan-Sanremo](https://www.procyclingstats.com/race/milano-sanremo/2024/result).\n",
    "\n",
    "\n",
    "---"
   ]
  },
  {
   "cell_type": "markdown",
   "metadata": {},
   "source": [
    "## Zadanie 3.4\n",
    "\n",
    "Pobierz do pliku CSV ranking 500 najlepszych filmów ze strony [Filmweb](https://www.filmweb.pl/ranking/film). Twoja tabela powinna zawierać (co najmniej) pozycję w rankingu, tytuł, tytuł w wersji oryginalnej, rok produkcji, ocenę, liczbę głosów, gatunek.\n",
    "\n",
    "---"
   ]
  },
  {
   "cell_type": "markdown",
   "metadata": {},
   "source": [
    "## Zadanie 3.5\n",
    "\n",
    "Pobierz do pliku CSV ranking 1000 najlepszych filmów ze strony [IMDb](https://www.imdb.com/search/title/?count=100&groups=top_1000&sort=user_rating). Postaraj się pobrać jak najwięcej informacji (ale bez wchodzenia do podstron filmów).\n",
    "\n",
    "---"
   ]
  },
  {
   "cell_type": "markdown",
   "metadata": {},
   "source": [
    "## Zadanie 3.6\n",
    "\n",
    "Pobierz do pliku CSV rankingi uniwersytetów ze stron:\n",
    "\n",
    "1. https://www.topuniversities.com/world-university-rankings\n",
    "2. https://cwur.org/2021-22.php\n",
    "3. https://roundranking.com/ranking/index.html?year=2024&dimns=O&srt=rf&loc=&shw=25&1742246321963\n",
    "\n",
    "---"
   ]
  },
  {
   "cell_type": "markdown",
   "metadata": {},
   "source": [
    "## Zadanie 3.7\n",
    "\n",
    "Pobierz do pliku CSV ranking krajów ze strony \n",
    "\n",
    "https://www.usnews.com/news/best-countries/rankings\n",
    "\n",
    "---"
   ]
  }
 ],
 "metadata": {
  "kernelspec": {
   "display_name": "base",
   "language": "python",
   "name": "python3"
  },
  "language_info": {
   "codemirror_mode": {
    "name": "ipython",
    "version": 3
   },
   "file_extension": ".py",
   "mimetype": "text/x-python",
   "name": "python",
   "nbconvert_exporter": "python",
   "pygments_lexer": "ipython3",
   "version": "3.12.7"
  }
 },
 "nbformat": 4,
 "nbformat_minor": 2
}
