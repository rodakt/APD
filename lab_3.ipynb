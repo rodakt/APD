{
 "cells": [
  {
   "cell_type": "markdown",
   "metadata": {},
   "source": [
    "# Automatyczne pozyskiwanie danych\n",
    "\n",
    "## Tomasz Rodak\n",
    "\n",
    "# Lab 3\n",
    "\n",
    "---"
   ]
  },
  {
   "cell_type": "markdown",
   "metadata": {},
   "source": [
    "## Zadanie 3.1\n",
    "\n",
    "Ciąg Collatza definiujemy następująco:\n",
    "\n",
    "\\begin{equation*}\n",
    "\\begin{aligned}\n",
    "a_0 &= n, \\\\\n",
    "a_{i+1} &= \\begin{cases}\n",
    "\\frac{a_i}{2} & \\text{jeśli } a_i \\text{ jest parzyste}, \\\\\n",
    "3a_i + 1 & \\text{jeśli } a_i \\text{ jest nieparzyste}.\n",
    "\\end{cases}\n",
    "\\end{aligned}\n",
    "\\end{equation*}\n",
    "\n",
    "Liczba $n\\in\\mathbb{N}$ jest początkowym wyrazem ciągu. Przykładowo, dla $n=6$ mamy ciąg $6, 3, 10, 5, 16, 8, 4, 2, 1$. Ponieważ $4, 2, 1$ jest cyklem, więc nic nowego dalej już nie zobaczymy. Hipoteza Collatza zakłada, że dla każdej liczby naturalnej $n$ ciąg ten zawsze kończy się na cyklu $4, 2, 1$.\n",
    "\n",
    "Napisz serwer, który ma odbierać żądania HTTP i zwracać odpowiedzi zgodnie z poniższym schematem:\n",
    "- jeśli otrzyma żądanie GET na adres `/`, to zwraca kod stanu 200 i HTML postaci:\n",
    "```html\n",
    "<!DOCTYPE html>\n",
    "<html>\n",
    "<head>\n",
    "    <title>Ciąg Collatza</title>\n",
    "</head>\n",
    "<body>\n",
    "    <h1>Witaj na stronie ciągu Collatza!</h1>\n",
    "    <p>Podaj liczbę, aby zobaczyć ciąg Collatza.</p>\n",
    "    <form action=\"/collatz\" method=\"get\">\n",
    "        <label for=\"n\">Liczba:</label>\n",
    "        <input type=\"number\" id=\"n\" name=\"n\">\n",
    "        <input type=\"submit\" value=\"Wyślij\">\n",
    "    </form>\n",
    "</body>\n",
    "</html>\n",
    "```\n",
    "- jeśli otrzyma żądanie GET na adres `/collatz?n=<liczba>`, to zwraca kod stanu 200 i HTML postaci:\n",
    "```html\n",
    "<!DOCTYPE html>\n",
    "<html>\n",
    "<head>\n",
    "    <title>Ciąg Collatza</title>\n",
    "</head>\n",
    "<body>\n",
    "    <h1>Aktualna liczba: <liczba></h1>\n",
    "    <p>Następna liczba: <a href=\"/collatz?n=<następna liczba>\"><następna liczba></a></p>\n",
    "</body>\n",
    "</html>\n",
    "```\n",
    "gdzie `<liczba>` to aktualny wyraz ciągu Collatza, a `<następna liczba>` to kolejny wyraz ciągu Collatza. Jeśli aktualny wyraz ciągu jest równy 1, to zwróć informację o zakończeniu ciągu.\n",
    "- w pozostałych przypadkach zwraca kod stanu 404 i treść `Nie znaleziono`\n",
    "\n",
    "---"
   ]
  },
  {
   "cell_type": "markdown",
   "metadata": {},
   "source": [
    "## Zadanie 3.2\n",
    "\n",
    "Napisz crawler wędrujący po serwerze z zadania 3.1. Program zaczyna od ustalonej początkowej liczby i następnie podąża za odpowiedziami serwera aż do kończącej jedynki. Wykonaj jakąś formę raportowania pracy programu, np. wypisuj kolejne znalezione liczby na ekran.\n",
    "\n",
    "---"
   ]
  }
 ],
 "metadata": {
  "kernelspec": {
   "display_name": "base",
   "language": "python",
   "name": "python3"
  },
  "language_info": {
   "codemirror_mode": {
    "name": "ipython",
    "version": 3
   },
   "file_extension": ".py",
   "mimetype": "text/x-python",
   "name": "python",
   "nbconvert_exporter": "python",
   "pygments_lexer": "ipython3",
   "version": "3.12.7"
  }
 },
 "nbformat": 4,
 "nbformat_minor": 2
}
