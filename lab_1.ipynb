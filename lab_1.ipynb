{
 "cells": [
  {
   "cell_type": "markdown",
   "metadata": {},
   "source": [
    "# Automatyczne pozyskiwanie danych\n",
    "\n",
    "## Tomasz Rodak\n",
    "\n",
    "# Lab 1\n",
    "\n",
    "---"
   ]
  },
  {
   "cell_type": "markdown",
   "metadata": {},
   "source": [
    "## Zadanie 1.1\n",
    "\n",
    "Wykorzystaj `curl` do pobrania i zapisania w pliku:\n",
    "- obrazka z dowolnej strony Wikipedii\n",
    "- lektury w formacie tekstowym z serwisu [WolneLektury.pl](https://wolnelektury.pl/)\n",
    "- wybranego pliku CSV z danymi ze strony [https://dane.gov.pl/pl](https://dane.gov.pl/pl)\n",
    "- wybranego pliku JSON z danymi ze strony [https://dane.gov.pl/pl](https://dane.gov.pl/pl)\n",
    "- strony startowej:\n",
    "    - [Wikipedii](https://pl.wikipedia.org/wiki/Wikipedia:Strona_g%C5%82%C3%B3wna)\n",
    "    - [allegro.pl](https://allegro.pl/)\n",
    "    - [amazon.com](https://www.amazon.com/)\n",
    "    - [onet.pl](https://www.onet.pl/)\n",
    "\n",
    "Sprawdź, czy pliki mają oczekiwaną zawartość. W każdym przypadku zbadaj przebieg żądania i odpowiedź serwera.\n",
    "\n",
    "---"
   ]
  },
  {
   "cell_type": "markdown",
   "metadata": {},
   "source": [
    "## Zadanie 1.2\n",
    "\n",
    "Rozwiąż zadanie 1.1, ale zamiast `curl` wykorzystaj bibliotekę `requests` w Pythonie.\n",
    "\n",
    "---"
   ]
  },
  {
   "cell_type": "markdown",
   "metadata": {},
   "source": [
    "## Zadanie 1.3\n",
    "\n",
    "Napisz program pobierający strony startowe z 10 popularnych witryn i wyświetlający ich rozmiary w bajtach. Wykorzystaj bibliotekę `requests`. Stronę startową definiujemy jako stronę, którą otrzymamy po wejściu na adres bez żadnych dodatkowych parametrów.\n",
    "\n",
    "Wyznacz orientacyjny czas działania programu. Jaki byłby czas działania programu, gdyby zamiast 10 witryn było ich 100?\n",
    "\n",
    "---"
   ]
  },
  {
   "cell_type": "markdown",
   "metadata": {},
   "source": [
    "## Zadanie 1.4\n",
    "\n",
    "Przetestuj odpowiedzi z różnych endpointów serwisu [httpbin.org](https://httpbin.org/). Wykorzystaj przeglądarkę, `curl` oraz `requests`.\n",
    "\n",
    "---"
   ]
  },
  {
   "cell_type": "markdown",
   "metadata": {},
   "source": [
    "## Zadanie 1.5\n",
    "\n",
    "Uruchom i przetestuj działanie programu `prosty_serwer_http.py` z wykładu 1.\n",
    "\n",
    "---"
   ]
  },
  {
   "cell_type": "markdown",
   "metadata": {},
   "source": [
    "## Zadanie 1.6\n",
    "\n",
    "Napisz serwer, który z pewnym domyślnie ustawionym opóźnieniem (np. 5 sekund) odpowiada na żądanie GET zwracając status 200 i tekst \"Witaj, świecie!\". Wykorzystaj bibliotekę `http.server`.\n",
    "\n",
    "1. Wykonaj zapytanie do serwera z użyciem `curl` i zbadaj czas odpowiedzi. Jaki jest czas oczekiwania, jeśli wykonasz dwa zapytania w dwóch różnych terminalach mniej więcej w tym samym czasie? Skomentuj rezultat.\n",
    "2. Wykonaj zapytanie do serwera z użyciem `curl` z flagą `-max-time`. Co się wówczas dzieje? Jaki wpływ na wynik ma położenie funkcji opóźniającej w kodzie metody `do_GET()`?\n",
    "\n",
    "---"
   ]
  },
  {
   "cell_type": "markdown",
   "metadata": {},
   "source": [
    "## Zadanie 1.7\n",
    "\n",
    "Napisz serwer, który ma odbierać żądania HTTP i zwracać odpowiedzi zgodnie z poniższym schematem:\n",
    "- jeśli otrzyma żądanie GET na adres `/`, to zwraca kod stanu 200 i treść `Witaj na moim serwerze!`\n",
    "- jeśli otrzyma żądanie GET na adres `/fib&n=<liczba>`, to zwraca kod stanu 200 i treść będącą $n$-tym wyrazem ciągu Fibonacciego\n",
    "- jeśli otrzyma żądanie GET na adres `/gcd?a=<liczba>&b=<liczba>`, to zwraca kod stanu 200 i treść będącą największym wspólnym dzielnikiem liczb $a$ i $b$\n",
    "- w pozostałych przypadkach zwraca kod stanu 404 i treść `Nie znaleziono`\n",
    "\n",
    "Zawartość odpowiedzi powinna być zwracana w formacie tekstowym w kodowaniu UTF-8 (MIME `text/plain`, ustaw odpowiedni nagłówek). W miarę możliwości dodaj obsługę błędów.\n",
    "\n",
    "---"
   ]
  }
 ],
 "metadata": {
  "language_info": {
   "name": "python"
  }
 },
 "nbformat": 4,
 "nbformat_minor": 2
}
