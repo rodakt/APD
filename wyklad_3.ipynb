{
 "cells": [
  {
   "cell_type": "markdown",
   "metadata": {},
   "source": [
    "# Automatyczne pozyskiwanie danych\n",
    "\n",
    "## Tomasz Rodak\n",
    "\n",
    "Wykład 3\n",
    "\n",
    "---"
   ]
  },
  {
   "cell_type": "markdown",
   "metadata": {},
   "source": [
    "## Ciasteczka (*cookies*)\n",
    "\n",
    "Ciasteczko to niewielki fragment danych przesyłany przez serwer do przeglądarki użytkownika, który jest następnie zapisywany na jego urządzeniu. Przy kolejnych żądaniach przeglądarka wysyła te dane z powrotem do serwera. Umożliwia to:\n",
    "\n",
    "- **Utrzymanie sesji:** Identyfikacja użytkownika po zalogowaniu oraz utrzymanie stanu sesji.\n",
    "- **Personalizację:** Zapamiętanie preferencji i ustawień użytkownika na stronie.\n",
    "- **Śledzenie:** Analiza zachowań użytkowników, m.in. przy użyciu narzędzi analitycznych i reklamowych."
   ]
  },
  {
   "cell_type": "markdown",
   "metadata": {},
   "source": [
    "### Mechanizm działania ciasteczek w komunikacji klient-serwer\n",
    "\n",
    "1.  **Żądanie serwera:**\n",
    "    * Gdy użytkownik po raz pierwszy odwiedza stronę internetową, jego przeglądarka wysyła żądanie HTTP do serwera, na którym hostowana jest ta strona.\n",
    "    * Serwer przetwarza to żądanie i generuje odpowiedź HTTP, która zawiera żądaną stronę internetową.\n",
    "    * W nagłówku odpowiedzi HTTP serwer może dołączyć polecenie `Set-Cookie`, które zawiera informacje o ciasteczku, które ma być zapisane w przeglądarce użytkownika.\n",
    "\n",
    "2.  **Ustawienie ciasteczka:**\n",
    "    * Przeglądarka użytkownika odbiera odpowiedź HTTP i analizuje nagłówek.\n",
    "    * Jeśli w nagłówku znajduje się polecenie `Set-Cookie`, przeglądarka zapisuje ciasteczko na urządzeniu użytkownika.\n",
    "    \n",
    "3.  **Kolejne żądania:**\n",
    "    * Przy każdym kolejnym żądaniu wysyłanym do tego samego serwera, przeglądarka automatycznie dołącza zapisane ciasteczka do nagłówka żądania HTTP.\n",
    "    * Serwer odbiera żądanie i analizuje nagłówek, aby odczytać zawartość ciasteczek.\n",
    "    * Na podstawie informacji zawartych w ciasteczkach serwer może dostosować odpowiedź, np. wyświetlić spersonalizowane treści lub utrzymać sesję użytkownika. Przykładowo, jeśli ciasteczko zawiera identyfikator sesji, serwer może zidentyfikować użytkownika i uznać go za zalogowanego.\n",
    "\n",
    "4.  **Wygaśnięcie ciasteczka:**\n",
    "    * Każde ciasteczko ma określony czas życia, który jest określony przez datę wygaśnięcia, lub jest to sesyjne ciasteczko, które jest usuwane po zamknięciu przeglądarki.\n",
    "    * Po upływie tego czasu przeglądarka automatycznie usuwa ciasteczko z urządzenia użytkownika.\n",
    "    * Ciasteczka mogą również zostać usunięte przez użytkownika ręcznie."
   ]
  },
  {
   "cell_type": "markdown",
   "metadata": {},
   "source": [
    "### `Set-Cookie`\n",
    "\n",
    "Nagłówek **Set-Cookie** umożliwia serwerowi wysłanie do klienta instrukcji, aby zapisał ciasteczko.\n",
    "\n",
    "### Kluczowe składniki nagłówka Set-Cookie\n",
    "\n",
    "- **Para klucz=wartość**  \n",
    "  To podstawowy element ciasteczka, który przechowuje dane (np. `session_id=abc123`).\n",
    "\n",
    "- **Atrybut Path**  \n",
    "  Określa ścieżkę w obrębie domeny, dla której ciasteczko będzie dostępne. Jeśli nie zostanie podany, domyślnie przypisywana jest bieżąca ścieżka, z której otrzymano nagłówek.\n",
    "\n",
    "- **Atrybut Domain**  \n",
    "  Definiuje, dla jakiej domeny ciasteczko ma być dostępne. Pozwala to na używanie ciasteczek w ramach głównej domeny i jej subdomen.\n",
    "\n",
    "- **Atrybut Expires / Max-Age**  \n",
    "  - **Expires**: Ustala datę i godzinę, do kiedy ciasteczko będzie ważne. Po tym terminie ciasteczko wygasa.\n",
    "  - **Max-Age**: Definiuje czas życia ciasteczka w sekundach, liczony od momentu jego ustawienia.\n",
    "\n",
    "- **Atrybut Secure**  \n",
    "  Wskazuje, że ciasteczko ma być przesyłane jedynie przez bezpieczne połączenie (HTTPS), co zwiększa ochronę przed podsłuchiwaniem.\n",
    "\n",
    "- **Atrybut HttpOnly**  \n",
    "  Zapobiega dostępowi do ciasteczka przez skrypty po stronie klienta, takie jak JavaScript. To działanie zwiększa bezpieczeństwo, chroniąc ciasteczko przed atakami typu XSS.\n",
    "\n",
    "- **Atrybut SameSite**  \n",
    "  Kontroluje, czy ciasteczko ma być wysyłane przy żądaniach cross-site (czyli z innych stron). Może przyjmować wartości:\n",
    "  - **Strict** – ciasteczko nie jest wysyłane przy żadnych żądaniach z innego źródła.\n",
    "  - **Lax** – ciasteczko jest wysyłane przy żądaniach nawigacyjnych, ale nie przy żądaniach asynchronicznych.\n",
    "  - **None** – ciasteczko jest wysyłane przy wszystkich żądaniach, ale przy tej opcji wymagane jest również ustawienie atrybutu Secure.\n",
    "\n",
    "#### Przykładowa składnia\n",
    "\n",
    "```\n",
    "Set-Cookie: session_id=abc123; Path=/; Domain=example.com; Expires=Wed, 21 Oct 2025 07:28:00 GMT; Secure; HttpOnly; SameSite=Strict\n",
    "```\n",
    "\n",
    "W tym przykładzie serwer ustawia ciasteczko `session_id` o wartości `abc123`, które:\n",
    "- Będzie dostępne dla całej domeny (`Path=/`),\n",
    "- Dotyczy domeny `example.com`,\n",
    "- Wygasa 21 października 2025 o 07:28:00 GMT,\n",
    "- Będzie przesyłane tylko przez bezpieczne połączenie (`Secure`),\n",
    "- Nie będzie dostępne dla skryptów po stronie klienta (`HttpOnly`),\n",
    "- Nie będzie wysyłane przy żądaniach cross-site (`SameSite=Strict`)."
   ]
  },
  {
   "cell_type": "markdown",
   "metadata": {},
   "source": [
    "### `Cookie`\n",
    "\n",
    "Nagłówek **Cookie** jest używany przez klienta (zazwyczaj przeglądarkę) do przesyłania wcześniej zapisanych ciasteczek do serwera w ramach żądania HTTP.\n",
    "\n",
    "#### Składnia \n",
    "\n",
    "Nagłówek `Cookie` zawiera pary klucz=wartość, które są rozdzielone średnikami. Przykładowa składnia wygląda następująco:\n",
    "\n",
    "```\n",
    "Cookie: session_id=abc123; theme=dark; lang=pl\n",
    "```\n",
    "\n",
    "- **`session_id=abc123`:** Może identyfikować unikalną sesję użytkownika.\n",
    "- **`theme=dark`:** Informuje o preferowanym motywie (ciemnym) wyświetlania strony.\n",
    "- **`lang=pl`:** Określa preferowany język interfejsu.\n",
    "\n",
    "#### Zasada działania\n",
    "\n",
    "1. **Odbiór ciasteczek:** Po otrzymaniu odpowiedzi z nagłówkiem `Set-Cookie`, przeglądarka zapisuje ciasteczka.\n",
    "2. **Wysyłka przy kolejnych żądaniach:** Przy kolejnych żądaniach do tej samej domeny, przeglądarka dołącza nagłówek `Cookie` z odpowiednimi wartościami, co umożliwia serwerowi kontynuowanie sesji lub personalizację odpowiedzi.\n",
    "3. **Brak dodatkowych atrybutów:** W odróżnieniu od nagłówka `Set-Cookie`, nagłówek `Cookie` nie zawiera atrybutów takich jak `Path`, `Domain`, `Secure`, `HttpOnly` czy `SameSite` – wszystkie te ustawienia były wcześniej skonfigurowane przez serwer."
   ]
  },
  {
   "cell_type": "markdown",
   "metadata": {},
   "source": [
    "### `http.cookies`\n",
    "\n",
    "Moduł **`http.cookies`** w Pythonie dostarcza narzędzi do obsługi ciasteczek HTTP, umożliwiając ich tworzenie, modyfikację oraz parsowanie. \n",
    "\n",
    "Podstawowe definiowane klasy:\n",
    "- **`SimpleCookie`**: Umożliwia łatwe zarządzanie zestawem ciasteczek, działając jak słownik.\n",
    "- **`Morsel`**: Reprezentuje pojedyncze ciasteczko, przechowując jego wartość oraz atrybuty.\n",
    "\n",
    "\n",
    "#### **`SimpleCookie`**\n",
    "\n",
    "Klasa, która dziedziczy po słowniku (`dict`) i pozwala na łatwe przechowywanie i operowanie na wielu ciasteczkach. Umożliwia ona dodawanie nowych ciasteczek, modyfikację istniejących oraz generowanie poprawnych nagłówków HTTP, które można wysłać w odpowiedzi serwera.\n",
    "\n",
    "- **Funkcjonalności:**  \n",
    "  - **Parsowanie ciasteczek:** Możesz przekazać łańcuch znaków (np. zawartość nagłówka `Cookie`), a `SimpleCookie` rozdzieli poszczególne ciasteczka i przypisze je do kluczy w słowniku.  \n",
    "  - **Dodawanie ciasteczek:** Umożliwia dodanie nowego ciasteczka, np. `cookie[\"session\"] = \"abc123\"`.  \n",
    "  - **Ustawianie atrybutów:** Po utworzeniu ciasteczka można ustawić dodatkowe atrybuty, takie jak `path`, `domain`, `expires`, `secure`, `httponly`, czy `samesite`, np. `cookie[\"session\"][\"Max-Age\"] = 3600`. \n",
    "  - **Generowanie nagłówków:** Po ustawieniu ciasteczek, metoda `output()` generuje poprawnie sformatowany nagłówek `Set-Cookie`, który można bezpośrednio wykorzystać w odpowiedzi HTTP.\n",
    "\n",
    "- **Przykład użycia:**\n",
    "\n",
    "  ```python\n",
    "  from http.cookies import SimpleCookie\n",
    "\n",
    "  # Utworzenie obiektu SimpleCookie\n",
    "  cookie = SimpleCookie()\n",
    "  cookie[\"session_id\"] = \"abc123\"\n",
    "  cookie[\"session_id\"][\"path\"] = \"/\"\n",
    "  cookie[\"session_id\"][\"httponly\"] = True\n",
    "\n",
    "  # Wygenerowanie nagłówka Set-Cookie\n",
    "  print(cookie.output())\n",
    "  ```\n",
    "  Wyjście:\n",
    "  ```\n",
    "  Set-Cookie: session_id=abc123; HttpOnly; Path=/\n",
    "  ```\n",
    "\n",
    "### **Morsel**\n",
    "  \n",
    "Klasa **`Morsel`** reprezentuje pojedyncze ciasteczko. Jest to struktura danych, która przechowuje zarówno wartość ciasteczka, jak i dodatkowe informacje (atrybuty), takie jak `expires`, `domain`, `path`, `secure` czy `httponly`.\n",
    "\n",
    "**Funkcjonalności:**  \n",
    "  - **Przechowywanie danych:** Każdy obiekt Morsel zawiera klucz (nazwę ciasteczka), wartość (surową oraz zakodowaną) oraz słownik atrybutów, który określa dodatkowe właściwości ciasteczka.  \n",
    "  - **Formatowanie:** Morsel jest odpowiedzialny za poprawne sformatowanie ciasteczka, gdy jest konwertowany do ciągu znaków.  \n",
    "  - **Walidacja:** Przed ustawieniem wartości lub atrybutów, Morsel może wykonywać pewne operacje walidacyjne, aby upewnić się, że dane są zgodne z wymaganiami protokołu HTTP.\n",
    "\n",
    "- **Powiązanie z SimpleCookie:**  \n",
    "  Dla ciasteczka jako obiektu typu `SimpleCookie` istnieje pod spodem obiekt typu Morsel reprezentujący to ciasteczko. "
   ]
  },
  {
   "cell_type": "markdown",
   "metadata": {},
   "source": [
    "### Przykład\n",
    "\n",
    "```python\n",
    "from http.server import BaseHTTPRequestHandler, HTTPServer\n",
    "from http.cookies import SimpleCookie\n",
    "import uuid\n",
    "\n",
    "# Przechowywanie sesji w pamięci\n",
    "session_storage = {}\n",
    "\n",
    "class SimpleHandler(BaseHTTPRequestHandler):\n",
    "    \n",
    "    def do_GET(self):\n",
    "        if self.path == \"/\":\n",
    "            # Sprawdzanie czy klient wysyła ciasteczko sesyjne\n",
    "            cookie_header = self.headers.get(\"Cookie\")\n",
    "            cookies = SimpleCookie(cookie_header)\n",
    "            \n",
    "            # Pobieranie lub tworzenie identyfikatora sesji\n",
    "            if \"session_id\" in cookies:\n",
    "                session_id = cookies[\"session_id\"].value\n",
    "                # Pobieranie i zwiększanie licznika odwiedzin\n",
    "                counter = session_storage.get(session_id, 0) + 1\n",
    "            else:\n",
    "                # Tworzenie nowej sesji\n",
    "                session_id = str(uuid.uuid4())\n",
    "                counter = 1\n",
    "            \n",
    "            # Zapisywanie licznika w słowniku sesji\n",
    "            session_storage[session_id] = counter\n",
    "            \n",
    "            # Ustawianie nagłówków odpowiedzi\n",
    "            self.send_response(200)\n",
    "            self.send_header(\"Content-type\", \"text/html\")\n",
    "            self.send_header(\"Set-Cookie\", f\"session_id={session_id}\")\n",
    "            self.end_headers()\n",
    "            \n",
    "            # Wczytywanie i modyfikowanie strony HTML\n",
    "            try:\n",
    "                with open(\"page.html\", \"r\") as file:\n",
    "                    outhtml = file.read()\n",
    "                outhtml = outhtml.format(counter=counter)\n",
    "                self.wfile.write(outhtml.encode(\"utf-8\"))\n",
    "            except FileNotFoundError:\n",
    "                # Komunikat w razie braku pliku HTML\n",
    "                html = f\"<html><body><h1>Odwiedziny: {counter}</h1></body></html>\"\n",
    "                self.wfile.write(html.encode(\"utf-8\"))\n",
    "\n",
    "# Uruchomienie serwera\n",
    "httpd = HTTPServer(('localhost', 21000), SimpleHandler)\n",
    "print(\"Serwer uruchomiony na porcie 21000...\")\n",
    "httpd.serve_forever()\n",
    "```\n",
    "\n",
    "Strona HTML (`page.html`):\n",
    "```html\n",
    "<!DOCTYPE html>\n",
    "<html>\n",
    "<head>\n",
    "    <meta charset=\"UTF-8\">\n",
    "    <meta name=\"viewport\" content=\"width=device-width, initial-scale=1.0\">\n",
    "    <title>Licznik</title>\n",
    "</head>\n",
    "\n",
    "<body>\n",
    "    <h1>Witaj w liczniku!</h1>\n",
    "    <p>Stan licznika: {counter}</p>\n",
    "    <p>Kliknij <a href=\"/\">tutaj</a>, aby zwiększyć licznik.</p>\n",
    "</body> \n",
    "</html>\n",
    "```"
   ]
  },
  {
   "cell_type": "markdown",
   "metadata": {},
   "source": [
    "### Obsługa ciasteczek w `requests`\n",
    "\n",
    "Biblioteka **requests** zapewnia mechanizmy do obsługi ciasteczek, zarówno przy wysyłaniu żądań, jak i przy odbieraniu odpowiedzi z serwera. Wykorzystuje ona obiekt typu **CookieJar** do przechowywania ciasteczek.\n",
    "\n",
    "#### Odbieranie ciasteczek\n",
    "\n",
    "Po otrzymaniu odpowiedzi z serwera, `requests` automatycznie zapisuje ciasteczka w obiekcie `Response.cookies`. Dostęp do ciasteczek można uzyskać za pomocą atrybutu `cookies` obiektu `Response`. Ciasteczka są przechowywane w formie obiektu `RequestsCookieJar`, który działa jak słownik.\n",
    "\n",
    "Jeśli serwer z przykładu powyżej jest uruchomiony, to:"
   ]
  },
  {
   "cell_type": "code",
   "execution_count": 1,
   "metadata": {},
   "outputs": [
    {
     "data": {
      "text/plain": [
       "<RequestsCookieJar[Cookie(version=0, name='session_id', value='8670032e-474b-44e4-becd-480618abfc25', port=None, port_specified=False, domain='localhost.local', domain_specified=False, domain_initial_dot=False, path='/', path_specified=False, secure=False, expires=None, discard=True, comment=None, comment_url=None, rest={}, rfc2109=False)]>"
      ]
     },
     "execution_count": 1,
     "metadata": {},
     "output_type": "execute_result"
    }
   ],
   "source": [
    "import requests\n",
    "from bs4 import BeautifulSoup\n",
    "\n",
    "url = \"http://localhost:8080/\"\n",
    "r = requests.get(url)\n",
    "r.cookies"
   ]
  },
  {
   "cell_type": "code",
   "execution_count": 2,
   "metadata": {},
   "outputs": [
    {
     "data": {
      "text/plain": [
       "'8670032e-474b-44e4-becd-480618abfc25'"
      ]
     },
     "execution_count": 2,
     "metadata": {},
     "output_type": "execute_result"
    }
   ],
   "source": [
    "r.cookies['session_id']"
   ]
  },
  {
   "cell_type": "code",
   "execution_count": 3,
   "metadata": {},
   "outputs": [
    {
     "data": {
      "text/plain": [
       "'Stan licznika: 1'"
      ]
     },
     "execution_count": 3,
     "metadata": {},
     "output_type": "execute_result"
    }
   ],
   "source": [
    "BeautifulSoup(r.content, 'html.parser').find('p').text"
   ]
  },
  {
   "cell_type": "markdown",
   "metadata": {},
   "source": [
    "#### Odsyłanie ciasteczek\n",
    "\n",
    "Ciasteczka nie są jednak automatycznie odsyłane:"
   ]
  },
  {
   "cell_type": "code",
   "execution_count": 4,
   "metadata": {},
   "outputs": [
    {
     "name": "stdout",
     "output_type": "stream",
     "text": [
      "Stan licznika: 1\n",
      "Stan licznika: 1\n",
      "Stan licznika: 1\n",
      "Stan licznika: 1\n",
      "Stan licznika: 1\n"
     ]
    }
   ],
   "source": [
    "for _ in range(5):\n",
    "    r = requests.get(url)\n",
    "    print(BeautifulSoup(r.content, 'html.parser').find('p').text)"
   ]
  },
  {
   "cell_type": "markdown",
   "metadata": {},
   "source": [
    "Można je odesłać w nagłówku `Cookie` lub za pomocą parametrów `cookies` w funkcji `requests.get()`:"
   ]
  },
  {
   "cell_type": "code",
   "execution_count": 5,
   "metadata": {},
   "outputs": [
    {
     "name": "stdout",
     "output_type": "stream",
     "text": [
      "Stan licznika: 1\n",
      "Stan licznika: 2\n",
      "Stan licznika: 3\n",
      "Stan licznika: 4\n",
      "Stan licznika: 5\n"
     ]
    }
   ],
   "source": [
    "r = requests.get(url)\n",
    "\n",
    "for _ in range(4):\n",
    "    print(BeautifulSoup(r.content, 'html.parser').find('p').text)\n",
    "    r = requests.get(url, cookies=r.cookies)\n",
    "    \n",
    "print(BeautifulSoup(r.content, 'html.parser').find('p').text)"
   ]
  },
  {
   "cell_type": "code",
   "execution_count": 6,
   "metadata": {},
   "outputs": [
    {
     "name": "stdout",
     "output_type": "stream",
     "text": [
      "Stan licznika: 1\n",
      "Stan licznika: 2\n",
      "Stan licznika: 3\n",
      "Stan licznika: 4\n",
      "Stan licznika: 5\n"
     ]
    }
   ],
   "source": [
    "r = requests.get(url)\n",
    "\n",
    "for _ in range(4):\n",
    "    print(BeautifulSoup(r.content, 'html.parser').find('p').text)\n",
    "    r = requests.get(url, cookies={'session_id': r.cookies['session_id']})\n",
    "    \n",
    "print(BeautifulSoup(r.content, 'html.parser').find('p').text)"
   ]
  },
  {
   "cell_type": "markdown",
   "metadata": {},
   "source": [
    "#### Użycie obiektu `Session`\n",
    "\n",
    "Używając obiektu `Session` z requests, można utrzymać stan (w tym ciasteczka) przez wiele żądań. Dzięki temu, wszystkie ciasteczka są przechowywane i automatycznie dołączane do kolejnych żądań wysyłanych w ramach tej sesji.\n"
   ]
  },
  {
   "cell_type": "code",
   "execution_count": 7,
   "metadata": {},
   "outputs": [
    {
     "name": "stdout",
     "output_type": "stream",
     "text": [
      "Stan licznika: 1\n",
      "Stan licznika: 2\n",
      "Stan licznika: 3\n",
      "Stan licznika: 4\n",
      "Stan licznika: 5\n"
     ]
    }
   ],
   "source": [
    "session = requests.Session()\n",
    "\n",
    "for _ in range(5):\n",
    "    r = session.get(url)\n",
    "    print(BeautifulSoup(r.content, 'html.parser').find('p').text)"
   ]
  }
 ],
 "metadata": {
  "kernelspec": {
   "display_name": "py312",
   "language": "python",
   "name": "python3"
  },
  "language_info": {
   "codemirror_mode": {
    "name": "ipython",
    "version": 3
   },
   "file_extension": ".py",
   "mimetype": "text/x-python",
   "name": "python",
   "nbconvert_exporter": "python",
   "pygments_lexer": "ipython3",
   "version": "3.12.4"
  }
 },
 "nbformat": 4,
 "nbformat_minor": 2
}
